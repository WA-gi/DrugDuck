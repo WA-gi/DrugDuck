{
 "cells": [
  {
   "cell_type": "markdown",
   "metadata": {},
   "source": [
    "# T004 · Ligand-based screening: compound similarity\n",
    "\n",
    "**Note:** This talktorial is a part of TeachOpenCADD, a platform that aims to teach domain-specific skills and to provide pipeline templates as starting points for research projects.\n",
    "\n",
    "Authors:\n",
    "\n",
    "- Andrea Morger, 2017-2020, [Volkamer lab](https://volkamerlab.org/), Charité\n",
    "- Franziska Fritz, CADD seminar, 2018, Charité/FU Berlin\n",
    "- Yonghui Chen, 2019-2020, [Volkamer lab](https://volkamerlab.org/), Charité\n",
    "- Dominique Sydow, 2018-2020, [Volkamer lab](https://volkamerlab.org/), Charité"
   ]
  },
  {
   "cell_type": "markdown",
   "metadata": {},
   "source": [
    "__Talktorial T004__: This talktorial is part of the TeachOpenCADD pipeline described in the [first TeachOpenCADD paper](https://jcheminf.biomedcentral.com/articles/10.1186/s13321-019-0351-x), comprising of **talktorials T001-T010**."
   ]
  },
  {
   "cell_type": "markdown",
   "metadata": {},
   "source": [
    "## Aim of this talktorial\n",
    "\n",
    "In this talktorial, we get familiar with different approaches to encode (descriptors, fingerprints) and compare (similarity measures) molecules. Furthermore, we perform a virtual screening in the form of a similarity search for the EGFR inhibitor Gefitinib against our dataset of EGFR-tested molecules from the ChEMBL database filtered by Lipinski's rule of five (see **Talktorial T002**). "
   ]
  },
  {
   "cell_type": "markdown",
   "metadata": {},
   "source": [
    "### Contents in _Theory_\n",
    "\n",
    "* Molecular similarity\n",
    "* Molecular descriptors\n",
    "* Molecular fingerprints\n",
    "  * Substructure-based fingerprints\n",
    "  * MACCS fingerprints\n",
    "  * Morgan fingerprints and circular fingerprints\n",
    "* Molecular similarity measures\n",
    "  * Tanimoto coefficient\n",
    "  * Dice coefficient\n",
    "* Virtual screening\n",
    "  * Virtual screening using similarity search\n",
    "  * Enrichment plots"
   ]
  },
  {
   "cell_type": "markdown",
   "metadata": {},
   "source": [
    "### Contents in _Practical_\n",
    "\n",
    "* Import and draw molecules\n",
    "* Calculate molecular descriptors\n",
    "  * 1D molecular descriptors: Molecular weight\n",
    "  * 2D molecular descriptors: MACCS fingerprint\n",
    "  * 2D molecular descriptors: Morgan fingerprint\n",
    "* Calculate molecular similarity\n",
    "  * MACCS fingerprints: Tanimoto and Dice similarity\n",
    "  * Morgan fingerprints: Tanimoto and Dice similarity\n",
    "* Virtual screening using similarity search\n",
    "  * Compare query molecule to all molecules in the data set\n",
    "  * Distribution of similarity values\n",
    "  * Visualize most similar molecules\n",
    "  * Generate enrichment plots\n",
    "  * Calculate enrichment factors"
   ]
  },
  {
   "cell_type": "markdown",
   "metadata": {},
   "source": [
    "### References\n",
    "\n",
    "* Review on \"Molecular similarity in medicinal chemistry\" ([<i>J. Med. Chem.</i> (2014), <b>57</b>, 3186-3204](http://pubs.acs.org/doi/abs/10.1021/jm401411z))\n",
    "* [Morgan fingerprints](http://www.rdkit.org/docs/GettingStartedInPython.html#morgan-fingerprints-circular-fingerprints) with `rdkit`\n",
    "* Description of the extended-connectivity fingerprint ECFP ([<i>J. Chem. Inf. Model.</i> (2010), <b>50</b>,742-754](https://pubs.acs.org/doi/abs/10.1021/ci100050t))\n",
    "* What is the chemical space?\n",
    "([<i>ACS Chem. Neurosci.</i> (2012), <b>19</b>, 649-57](https://www.ncbi.nlm.nih.gov/pubmed/23019491))\n",
    "* List of [molecular descriptors](https://www.rdkit.org/docs/GettingStartedInPython.html#list-of-available-descriptors) in `rdkit`\n",
    "* List of [fingerprints](https://www.rdkit.org/docs/GettingStartedInPython.html#list-of-available-fingerprints) in `rdkit`\n",
    "* Introduction to enrichment plots ([Applied Chemoinformatics, Wiley-VCH Verlag GmbH & Co. KGaA, Weinheim, (2018), **1**, 313-31](https://onlinelibrary.wiley.com/doi/10.1002/9783527806539.ch6h))"
   ]
  },
  {
   "cell_type": "markdown",
   "metadata": {},
   "source": [
    "## Theory"
   ]
  },
  {
   "cell_type": "markdown",
   "metadata": {},
   "source": [
    "### Molecular similarity \n",
    "\n",
    "Molecular similarity is a well known and often used concept in chemical informatics. Comparing molecules and their properties can be used in many different ways and help us to identify new molecules with desired properties and biological activity. \n",
    "\n",
    "The similar property principle (SPP) as well as the structure-activity relationship (SAR) approaches are based on the assumption that structurally similar molecules have similar properties and, thus, similar biological activity. In this context, virtual screening follows this idea to search for similar molecules in given a set of molecules with known binding affinity and to propose those as potentially new active molecules. "
   ]
  },
  {
   "cell_type": "markdown",
   "metadata": {},
   "source": [
    "### Molecular descriptors \n",
    "\n",
    "Similarity can be assessed in many different ways depending on the application (see [<i>J. Med. Chem.</i> (2014), <b>57</b>, 3186-3204</a>](http://pubs.acs.org/doi/abs/10.1021/jm401411z)): \n",
    "\n",
    "- 1D molecular descriptor: Solubility, logP, molecular weight, melting point.\n",
    "  - Global descriptor: only one value represents the whole molecule\n",
    "  - Usually do not contain enough information to be applied to machine learning (ML)\n",
    "  - Can be added to 2D fingerprints to improve molecular encoding for ML\n",
    "- 2D molecular descriptors: Molecular graphs, paths, fragments, atom environments\n",
    "  - Detailed representation of individual parts of the molecule\n",
    "  - Contains many features/bits per molecule called fingerprints\n",
    "  - Very often used in similarity search and ML\n",
    "- 3D molecular descriptors: Shape, stereochemistry\n",
    "  - Less robust than 2D representations because of molecule flexibility (what is the \"right\" conformation of a molecule?)\n",
    "    Biological similarity\n",
    "  - Biological fingerprint, e.g. individual bits represent bioactivity measure against different targets\n",
    "  - Independent of molecular structure\n",
    "  - Requires experimental (or predicted) data\n",
    "\n",
    "We already learned how to calculate 1D physicochemical parameters, such as the molecular weight and logP in **Talktorial T002**. \n",
    "More information about these [descriptors](https://www.rdkit.org/docs/GettingStartedInPython.html#list-of-available-descriptors) in the `rdkit` documentation.  \n",
    "\n",
    "In the following, we focus on the definition of 2D molecular descriptors. Due to their, mostly, uniqueness per molecule, these descriptors are also called fingerprints."
   ]
  },
  {
   "cell_type": "markdown",
   "metadata": {},
   "source": [
    "### Molecular fingerprints"
   ]
  },
  {
   "cell_type": "markdown",
   "metadata": {},
   "source": [
    "#### Substructure-based fingerprints\n",
    "\n",
    "Molecular fingerprints are a computational representation of molecules that encode chemical and molecular features in the form of bitstrings, bitvectors or arrays. Each bit corresponds to a predefined molecular feature or environment, where \"1\" represents the presence and \"0\" the absence of a feature. Note that some implementations are count-based. Thus, they count how often a specific feature is present.\n",
    "\n",
    "There are multiple ways to design fingerprints.\n",
    "Here, we introduce MACCS keys and Morgan fingerprint as two commonly used 2D fingerprints. \n",
    "As can be seen in the `rdkit` documentation on [fingerprints](https://www.rdkit.org/docs/GettingStartedInPython.html#list-of-available-fingerprints), `rdkit` also offers multiple alternate fingerprints. "
   ]
  },
  {
   "cell_type": "markdown",
   "metadata": {},
   "source": [
    "#### MACCS fingerprints\n",
    "\n",
    "Molecular ACCess System \n",
    "(MACCS) fingerprints, also termed MACCS structural keys, consist of 166 predefined structural fragments. Each position queries the presence or absence of one particular structural fragment or key. \n",
    "The individual keys were empirically defined by medicinal chemists and are simple to use and interpret (`rdkit` documentation on [MACCS keys](http://rdkit.org/Python_Docs/rdkit.Chem.MACCSkeys-module.html)).\n",
    "\n",
    "![Figure 1](images/maccs_fp.png)\n",
    "\n",
    "*Figure 1*: Illustration of MACCS fingerprint (figure by Andrea Morger)."
   ]
  },
  {
   "cell_type": "markdown",
   "metadata": {},
   "source": [
    "#### Morgan fingerprints and circular fingerprints \n",
    "\n",
    "This family of fingerprints is based on the Morgan algorithm. \n",
    "The bits correspond to the circular environments of each atom in a molecule. \n",
    "The number of neighboring bonds and atoms to consider is set by the radius. \n",
    "Also the length of the bit string can be defined, a longer bit string will be modded to the desired length. \n",
    "Therefore, the Morgan fingerprint is not limited to a certain number of bits. \n",
    "More about the [Morgan fingerprint](http://www.rdkit.org/docs/GettingStartedInPython.html#morgan-fingerprints-circular-fingerprints) can be found in the \n",
    "`rdkit` documentation. \n",
    "Extended connectivity fingerprints (ECFP) are also commonly used fingerprints that are derived using a variant of the Morgan algorithm, see [<i>J. Chem. Inf. Model.</i> (2010), <b>50</b>,742-754](https://pubs.acs.org/doi/abs/10.1021/ci100050t) for further information. \n",
    "\n",
    "![Figure 2](images/morgan_fp.png)\n",
    "\n",
    "*Figure 2*: Illustration of the Morgan circular fingerprint (figure by Andrea Morger)."
   ]
  },
  {
   "cell_type": "markdown",
   "metadata": {},
   "source": [
    "### Molecular similarity measures \n",
    "\n",
    "Once the descriptors/fingerprints are calculated, they can be compared to assess the similarity between two molecules. Molecular similarity can be quantified with a number of different similarity coefficients, two common similarity measures are the Tanimoto and Dice index ([<i>J. Med. Chem.</i> (2014), <b>57</b>, 3186-3204](http://pubs.acs.org/doi/abs/10.1021/jm401411z))."
   ]
  },
  {
   "cell_type": "markdown",
   "metadata": {},
   "source": [
    "#### Tanimoto coefficient\n",
    "\n",
    "$$T _{c}(A,B) = \\frac{c}{a+b-c}$$\n",
    "\n",
    "- a: number of features present in molecule A \n",
    "- b: number of features present in molecule B \n",
    "- c: number of features shared by molecules A and B"
   ]
  },
  {
   "cell_type": "markdown",
   "metadata": {},
   "source": [
    "#### Dice coefficient\n",
    "\n",
    "$$D_{c}(A,B) = \\frac{c}{\\frac{1}{2}(a+b)}$$\n",
    "\n",
    "- a: number of features present in molecule A\n",
    "- b: number of features present in molecule B \n",
    "- c: number of features shared by molecules A and B\n",
    "\n",
    "The similarity measures usually consider the number of positive bits (1's) present in either fingerprint and the number of positive bits that both have in common. \n",
    "Dice similarity usually returns higher values than Tanimoto similarity because of their denominators:\n",
    "\n",
    "$$\\frac{c}{a+b-c} \\leq \\frac{c}{\\frac{1}{2}(a+b)}$$"
   ]
  },
  {
   "cell_type": "markdown",
   "metadata": {},
   "source": [
    "### Virtual screening \n",
    "\n",
    "The challenge in early stages of drug discovery is to narrow down a set of small molecules (molecules) from the large existing chemical space that are potentially binding to the target under investigation. Note that this chemical space is vast: Small molecules can be made of 10<sup>20</sup> combinations of chemical moieties ([<i>ACS Chem. Neurosci.</i> (2012), <b>19</b>, 649-57](https://www.ncbi.nlm.nih.gov/pubmed/23019491)). \n",
    "\n",
    "Since experimental high-throughput screening (HTS) for the activity of all those small molecules against the target of interest is cost and time intensive, computer-aided methods are invoked to propose a focused list of small molecules to be tested. This process is called virtual (high-throughput) screening: a large library of small molecules is filtered by rules and/or patterns, in order to identify those small molecules that are most likely to bind a target under investigation."
   ]
  },
  {
   "cell_type": "markdown",
   "metadata": {},
   "source": [
    "#### Virtual screening using similarity search\n",
    "\n",
    "Comparing a set of novel molecules against a (or several) known active molecule(s) to find the most similar ones can be used as a simple way of virtual screening. \n",
    "Given the similar property principle, we can assume that the most similar molecules, e.g. to a known inhibitor, also have similar effects. Requirements for a similarity search are the following (as discussed in detail above):\n",
    "\n",
    "* A representation that encodes chemical/molecular features\n",
    "* A potential weighting of features (optional)\n",
    "* A similarity measurement\n",
    "\n",
    "A similarity search can be performed by calculating the similarity between one molecule and all molecules in a specific dataset. Ranking the molecules of the dataset by their similarity coefficient yields the most similar molecules at the top."
   ]
  },
  {
   "cell_type": "markdown",
   "metadata": {},
   "source": [
    "#### Enrichment plots\n",
    "\n",
    "Enrichment plots are used to validate virtual screening results, which display the ratio of active molecules detected in the top x% of the ranked list, i.e.: \n",
    "\n",
    "* the ratio of top-ranked molecules (x-axis) from the whole dataset vs. \n",
    "* the ratio of active molecules (y-axis) from the whole dataset.\n",
    "\n",
    "![Figure 3](images/enrichment_plot.png)\n",
    "\n",
    "*Figure 3*: Example of enrichment plot for virtual screening results."
   ]
  },
  {
   "cell_type": "markdown",
   "metadata": {},
   "source": [
    "## Practical\n",
    "\n",
    "In the first part of this practical section, we will use `rdkit` to encode molecules (molecular fingerprints) and compare them in order to calculate their similarity (molecular similarity measures), as discussed in the theory section above.\n",
    "\n",
    "In the second part, we will use these encoding and comparison techniques to conduct a similarity search (virtual screening): \n",
    "We use the known EGFR inhibitor Gefitinib as query and search for similar molecules in our data set of molecules tested on EGFR, which we collected from the ChEMBL database in **Talktorial T001** and filtered by Lipinski's rule of five in **Talktorial T002**."
   ]
  },
  {
   "cell_type": "markdown",
   "metadata": {},
   "source": [
    "### Import and draw molecules\n",
    "\n",
    "First, we define and draw eight example molecules, which we will encode and compare later on. \n",
    "The molecules in SMILES format are converted to `rdkit` molecule objects and visualized with the `Draw` module in `rdkit`."
   ]
  },
  {
   "cell_type": "code",
   "execution_count": 1,
   "metadata": {
    "tags": []
   },
   "outputs": [],
   "source": [
    "from pathlib import Path\n",
    "\n",
    "import pandas as pd\n",
    "import matplotlib.pyplot as plt\n",
    "from rdkit import Chem, DataStructs\n",
    "from rdkit.Chem import (\n",
    "    PandasTools,\n",
    "    Draw,\n",
    "    Descriptors,\n",
    "    MACCSkeys,\n",
    "    rdFingerprintGenerator,\n",
    ")"
   ]
  },
  {
   "cell_type": "code",
   "execution_count": 2,
   "metadata": {},
   "outputs": [],
   "source": [
    "HERE = Path(_dh[-1])\n",
    "DATA = HERE / \"data\""
   ]
  },
  {
   "cell_type": "markdown",
   "metadata": {},
   "source": [
    "Let's define some molecule examples."
   ]
  },
  {
   "cell_type": "code",
   "execution_count": 29,
   "metadata": {
    "scrolled": true
   },
   "outputs": [
    {
     "ename": "FileNotFoundError",
     "evalue": "[Errno 2] No such file or directory: '\"../T002_compound_adme/data/Covid_data_lip_PIC50.csv'",
     "output_type": "error",
     "traceback": [
      "\u001b[0;31m---------------------------------------------------------------------------\u001b[0m",
      "\u001b[0;31mFileNotFoundError\u001b[0m                         Traceback (most recent call last)",
      "Cell \u001b[0;32mIn [29], line 2\u001b[0m\n\u001b[1;32m      1\u001b[0m \u001b[38;5;66;03m# Molecules in SMILES format\u001b[39;00m\n\u001b[0;32m----> 2\u001b[0m molecule_smiles \u001b[38;5;241m=\u001b[39m \u001b[43mpd\u001b[49m\u001b[38;5;241;43m.\u001b[39;49m\u001b[43mread_csv\u001b[49m\u001b[43m(\u001b[49m\u001b[38;5;124;43m'\u001b[39;49m\u001b[38;5;124;43m\"\u001b[39;49m\u001b[38;5;124;43m../T002_compound_adme/data/Covid_data_lip_PIC50.csv\u001b[39;49m\u001b[38;5;124;43m'\u001b[39;49m\u001b[43m,\u001b[49m\u001b[43m \u001b[49m\u001b[43mheader\u001b[49m\u001b[43m \u001b[49m\u001b[38;5;241;43m=\u001b[39;49m\u001b[43m \u001b[49m\u001b[38;5;28;43;01mNone\u001b[39;49;00m\u001b[43m)\u001b[49m\n\u001b[1;32m      3\u001b[0m molecule_smiles\n",
      "File \u001b[0;32m~/.local/lib/python3.10/site-packages/pandas/util/_decorators.py:211\u001b[0m, in \u001b[0;36mdeprecate_kwarg.<locals>._deprecate_kwarg.<locals>.wrapper\u001b[0;34m(*args, **kwargs)\u001b[0m\n\u001b[1;32m    209\u001b[0m     \u001b[38;5;28;01melse\u001b[39;00m:\n\u001b[1;32m    210\u001b[0m         kwargs[new_arg_name] \u001b[38;5;241m=\u001b[39m new_arg_value\n\u001b[0;32m--> 211\u001b[0m \u001b[38;5;28;01mreturn\u001b[39;00m \u001b[43mfunc\u001b[49m\u001b[43m(\u001b[49m\u001b[38;5;241;43m*\u001b[39;49m\u001b[43margs\u001b[49m\u001b[43m,\u001b[49m\u001b[43m \u001b[49m\u001b[38;5;241;43m*\u001b[39;49m\u001b[38;5;241;43m*\u001b[39;49m\u001b[43mkwargs\u001b[49m\u001b[43m)\u001b[49m\n",
      "File \u001b[0;32m~/.local/lib/python3.10/site-packages/pandas/util/_decorators.py:331\u001b[0m, in \u001b[0;36mdeprecate_nonkeyword_arguments.<locals>.decorate.<locals>.wrapper\u001b[0;34m(*args, **kwargs)\u001b[0m\n\u001b[1;32m    325\u001b[0m \u001b[38;5;28;01mif\u001b[39;00m \u001b[38;5;28mlen\u001b[39m(args) \u001b[38;5;241m>\u001b[39m num_allow_args:\n\u001b[1;32m    326\u001b[0m     warnings\u001b[38;5;241m.\u001b[39mwarn(\n\u001b[1;32m    327\u001b[0m         msg\u001b[38;5;241m.\u001b[39mformat(arguments\u001b[38;5;241m=\u001b[39m_format_argument_list(allow_args)),\n\u001b[1;32m    328\u001b[0m         \u001b[38;5;167;01mFutureWarning\u001b[39;00m,\n\u001b[1;32m    329\u001b[0m         stacklevel\u001b[38;5;241m=\u001b[39mfind_stack_level(),\n\u001b[1;32m    330\u001b[0m     )\n\u001b[0;32m--> 331\u001b[0m \u001b[38;5;28;01mreturn\u001b[39;00m \u001b[43mfunc\u001b[49m\u001b[43m(\u001b[49m\u001b[38;5;241;43m*\u001b[39;49m\u001b[43margs\u001b[49m\u001b[43m,\u001b[49m\u001b[43m \u001b[49m\u001b[38;5;241;43m*\u001b[39;49m\u001b[38;5;241;43m*\u001b[39;49m\u001b[43mkwargs\u001b[49m\u001b[43m)\u001b[49m\n",
      "File \u001b[0;32m~/.local/lib/python3.10/site-packages/pandas/io/parsers/readers.py:950\u001b[0m, in \u001b[0;36mread_csv\u001b[0;34m(filepath_or_buffer, sep, delimiter, header, names, index_col, usecols, squeeze, prefix, mangle_dupe_cols, dtype, engine, converters, true_values, false_values, skipinitialspace, skiprows, skipfooter, nrows, na_values, keep_default_na, na_filter, verbose, skip_blank_lines, parse_dates, infer_datetime_format, keep_date_col, date_parser, dayfirst, cache_dates, iterator, chunksize, compression, thousands, decimal, lineterminator, quotechar, quoting, doublequote, escapechar, comment, encoding, encoding_errors, dialect, error_bad_lines, warn_bad_lines, on_bad_lines, delim_whitespace, low_memory, memory_map, float_precision, storage_options)\u001b[0m\n\u001b[1;32m    935\u001b[0m kwds_defaults \u001b[38;5;241m=\u001b[39m _refine_defaults_read(\n\u001b[1;32m    936\u001b[0m     dialect,\n\u001b[1;32m    937\u001b[0m     delimiter,\n\u001b[0;32m   (...)\u001b[0m\n\u001b[1;32m    946\u001b[0m     defaults\u001b[38;5;241m=\u001b[39m{\u001b[38;5;124m\"\u001b[39m\u001b[38;5;124mdelimiter\u001b[39m\u001b[38;5;124m\"\u001b[39m: \u001b[38;5;124m\"\u001b[39m\u001b[38;5;124m,\u001b[39m\u001b[38;5;124m\"\u001b[39m},\n\u001b[1;32m    947\u001b[0m )\n\u001b[1;32m    948\u001b[0m kwds\u001b[38;5;241m.\u001b[39mupdate(kwds_defaults)\n\u001b[0;32m--> 950\u001b[0m \u001b[38;5;28;01mreturn\u001b[39;00m \u001b[43m_read\u001b[49m\u001b[43m(\u001b[49m\u001b[43mfilepath_or_buffer\u001b[49m\u001b[43m,\u001b[49m\u001b[43m \u001b[49m\u001b[43mkwds\u001b[49m\u001b[43m)\u001b[49m\n",
      "File \u001b[0;32m~/.local/lib/python3.10/site-packages/pandas/io/parsers/readers.py:605\u001b[0m, in \u001b[0;36m_read\u001b[0;34m(filepath_or_buffer, kwds)\u001b[0m\n\u001b[1;32m    602\u001b[0m _validate_names(kwds\u001b[38;5;241m.\u001b[39mget(\u001b[38;5;124m\"\u001b[39m\u001b[38;5;124mnames\u001b[39m\u001b[38;5;124m\"\u001b[39m, \u001b[38;5;28;01mNone\u001b[39;00m))\n\u001b[1;32m    604\u001b[0m \u001b[38;5;66;03m# Create the parser.\u001b[39;00m\n\u001b[0;32m--> 605\u001b[0m parser \u001b[38;5;241m=\u001b[39m \u001b[43mTextFileReader\u001b[49m\u001b[43m(\u001b[49m\u001b[43mfilepath_or_buffer\u001b[49m\u001b[43m,\u001b[49m\u001b[43m \u001b[49m\u001b[38;5;241;43m*\u001b[39;49m\u001b[38;5;241;43m*\u001b[39;49m\u001b[43mkwds\u001b[49m\u001b[43m)\u001b[49m\n\u001b[1;32m    607\u001b[0m \u001b[38;5;28;01mif\u001b[39;00m chunksize \u001b[38;5;129;01mor\u001b[39;00m iterator:\n\u001b[1;32m    608\u001b[0m     \u001b[38;5;28;01mreturn\u001b[39;00m parser\n",
      "File \u001b[0;32m~/.local/lib/python3.10/site-packages/pandas/io/parsers/readers.py:1442\u001b[0m, in \u001b[0;36mTextFileReader.__init__\u001b[0;34m(self, f, engine, **kwds)\u001b[0m\n\u001b[1;32m   1439\u001b[0m     \u001b[38;5;28mself\u001b[39m\u001b[38;5;241m.\u001b[39moptions[\u001b[38;5;124m\"\u001b[39m\u001b[38;5;124mhas_index_names\u001b[39m\u001b[38;5;124m\"\u001b[39m] \u001b[38;5;241m=\u001b[39m kwds[\u001b[38;5;124m\"\u001b[39m\u001b[38;5;124mhas_index_names\u001b[39m\u001b[38;5;124m\"\u001b[39m]\n\u001b[1;32m   1441\u001b[0m \u001b[38;5;28mself\u001b[39m\u001b[38;5;241m.\u001b[39mhandles: IOHandles \u001b[38;5;241m|\u001b[39m \u001b[38;5;28;01mNone\u001b[39;00m \u001b[38;5;241m=\u001b[39m \u001b[38;5;28;01mNone\u001b[39;00m\n\u001b[0;32m-> 1442\u001b[0m \u001b[38;5;28mself\u001b[39m\u001b[38;5;241m.\u001b[39m_engine \u001b[38;5;241m=\u001b[39m \u001b[38;5;28;43mself\u001b[39;49m\u001b[38;5;241;43m.\u001b[39;49m\u001b[43m_make_engine\u001b[49m\u001b[43m(\u001b[49m\u001b[43mf\u001b[49m\u001b[43m,\u001b[49m\u001b[43m \u001b[49m\u001b[38;5;28;43mself\u001b[39;49m\u001b[38;5;241;43m.\u001b[39;49m\u001b[43mengine\u001b[49m\u001b[43m)\u001b[49m\n",
      "File \u001b[0;32m~/.local/lib/python3.10/site-packages/pandas/io/parsers/readers.py:1735\u001b[0m, in \u001b[0;36mTextFileReader._make_engine\u001b[0;34m(self, f, engine)\u001b[0m\n\u001b[1;32m   1733\u001b[0m     \u001b[38;5;28;01mif\u001b[39;00m \u001b[38;5;124m\"\u001b[39m\u001b[38;5;124mb\u001b[39m\u001b[38;5;124m\"\u001b[39m \u001b[38;5;129;01mnot\u001b[39;00m \u001b[38;5;129;01min\u001b[39;00m mode:\n\u001b[1;32m   1734\u001b[0m         mode \u001b[38;5;241m+\u001b[39m\u001b[38;5;241m=\u001b[39m \u001b[38;5;124m\"\u001b[39m\u001b[38;5;124mb\u001b[39m\u001b[38;5;124m\"\u001b[39m\n\u001b[0;32m-> 1735\u001b[0m \u001b[38;5;28mself\u001b[39m\u001b[38;5;241m.\u001b[39mhandles \u001b[38;5;241m=\u001b[39m \u001b[43mget_handle\u001b[49m\u001b[43m(\u001b[49m\n\u001b[1;32m   1736\u001b[0m \u001b[43m    \u001b[49m\u001b[43mf\u001b[49m\u001b[43m,\u001b[49m\n\u001b[1;32m   1737\u001b[0m \u001b[43m    \u001b[49m\u001b[43mmode\u001b[49m\u001b[43m,\u001b[49m\n\u001b[1;32m   1738\u001b[0m \u001b[43m    \u001b[49m\u001b[43mencoding\u001b[49m\u001b[38;5;241;43m=\u001b[39;49m\u001b[38;5;28;43mself\u001b[39;49m\u001b[38;5;241;43m.\u001b[39;49m\u001b[43moptions\u001b[49m\u001b[38;5;241;43m.\u001b[39;49m\u001b[43mget\u001b[49m\u001b[43m(\u001b[49m\u001b[38;5;124;43m\"\u001b[39;49m\u001b[38;5;124;43mencoding\u001b[39;49m\u001b[38;5;124;43m\"\u001b[39;49m\u001b[43m,\u001b[49m\u001b[43m \u001b[49m\u001b[38;5;28;43;01mNone\u001b[39;49;00m\u001b[43m)\u001b[49m\u001b[43m,\u001b[49m\n\u001b[1;32m   1739\u001b[0m \u001b[43m    \u001b[49m\u001b[43mcompression\u001b[49m\u001b[38;5;241;43m=\u001b[39;49m\u001b[38;5;28;43mself\u001b[39;49m\u001b[38;5;241;43m.\u001b[39;49m\u001b[43moptions\u001b[49m\u001b[38;5;241;43m.\u001b[39;49m\u001b[43mget\u001b[49m\u001b[43m(\u001b[49m\u001b[38;5;124;43m\"\u001b[39;49m\u001b[38;5;124;43mcompression\u001b[39;49m\u001b[38;5;124;43m\"\u001b[39;49m\u001b[43m,\u001b[49m\u001b[43m \u001b[49m\u001b[38;5;28;43;01mNone\u001b[39;49;00m\u001b[43m)\u001b[49m\u001b[43m,\u001b[49m\n\u001b[1;32m   1740\u001b[0m \u001b[43m    \u001b[49m\u001b[43mmemory_map\u001b[49m\u001b[38;5;241;43m=\u001b[39;49m\u001b[38;5;28;43mself\u001b[39;49m\u001b[38;5;241;43m.\u001b[39;49m\u001b[43moptions\u001b[49m\u001b[38;5;241;43m.\u001b[39;49m\u001b[43mget\u001b[49m\u001b[43m(\u001b[49m\u001b[38;5;124;43m\"\u001b[39;49m\u001b[38;5;124;43mmemory_map\u001b[39;49m\u001b[38;5;124;43m\"\u001b[39;49m\u001b[43m,\u001b[49m\u001b[43m \u001b[49m\u001b[38;5;28;43;01mFalse\u001b[39;49;00m\u001b[43m)\u001b[49m\u001b[43m,\u001b[49m\n\u001b[1;32m   1741\u001b[0m \u001b[43m    \u001b[49m\u001b[43mis_text\u001b[49m\u001b[38;5;241;43m=\u001b[39;49m\u001b[43mis_text\u001b[49m\u001b[43m,\u001b[49m\n\u001b[1;32m   1742\u001b[0m \u001b[43m    \u001b[49m\u001b[43merrors\u001b[49m\u001b[38;5;241;43m=\u001b[39;49m\u001b[38;5;28;43mself\u001b[39;49m\u001b[38;5;241;43m.\u001b[39;49m\u001b[43moptions\u001b[49m\u001b[38;5;241;43m.\u001b[39;49m\u001b[43mget\u001b[49m\u001b[43m(\u001b[49m\u001b[38;5;124;43m\"\u001b[39;49m\u001b[38;5;124;43mencoding_errors\u001b[39;49m\u001b[38;5;124;43m\"\u001b[39;49m\u001b[43m,\u001b[49m\u001b[43m \u001b[49m\u001b[38;5;124;43m\"\u001b[39;49m\u001b[38;5;124;43mstrict\u001b[39;49m\u001b[38;5;124;43m\"\u001b[39;49m\u001b[43m)\u001b[49m\u001b[43m,\u001b[49m\n\u001b[1;32m   1743\u001b[0m \u001b[43m    \u001b[49m\u001b[43mstorage_options\u001b[49m\u001b[38;5;241;43m=\u001b[39;49m\u001b[38;5;28;43mself\u001b[39;49m\u001b[38;5;241;43m.\u001b[39;49m\u001b[43moptions\u001b[49m\u001b[38;5;241;43m.\u001b[39;49m\u001b[43mget\u001b[49m\u001b[43m(\u001b[49m\u001b[38;5;124;43m\"\u001b[39;49m\u001b[38;5;124;43mstorage_options\u001b[39;49m\u001b[38;5;124;43m\"\u001b[39;49m\u001b[43m,\u001b[49m\u001b[43m \u001b[49m\u001b[38;5;28;43;01mNone\u001b[39;49;00m\u001b[43m)\u001b[49m\u001b[43m,\u001b[49m\n\u001b[1;32m   1744\u001b[0m \u001b[43m\u001b[49m\u001b[43m)\u001b[49m\n\u001b[1;32m   1745\u001b[0m \u001b[38;5;28;01massert\u001b[39;00m \u001b[38;5;28mself\u001b[39m\u001b[38;5;241m.\u001b[39mhandles \u001b[38;5;129;01mis\u001b[39;00m \u001b[38;5;129;01mnot\u001b[39;00m \u001b[38;5;28;01mNone\u001b[39;00m\n\u001b[1;32m   1746\u001b[0m f \u001b[38;5;241m=\u001b[39m \u001b[38;5;28mself\u001b[39m\u001b[38;5;241m.\u001b[39mhandles\u001b[38;5;241m.\u001b[39mhandle\n",
      "File \u001b[0;32m~/.local/lib/python3.10/site-packages/pandas/io/common.py:856\u001b[0m, in \u001b[0;36mget_handle\u001b[0;34m(path_or_buf, mode, encoding, compression, memory_map, is_text, errors, storage_options)\u001b[0m\n\u001b[1;32m    851\u001b[0m \u001b[38;5;28;01melif\u001b[39;00m \u001b[38;5;28misinstance\u001b[39m(handle, \u001b[38;5;28mstr\u001b[39m):\n\u001b[1;32m    852\u001b[0m     \u001b[38;5;66;03m# Check whether the filename is to be opened in binary mode.\u001b[39;00m\n\u001b[1;32m    853\u001b[0m     \u001b[38;5;66;03m# Binary mode does not support 'encoding' and 'newline'.\u001b[39;00m\n\u001b[1;32m    854\u001b[0m     \u001b[38;5;28;01mif\u001b[39;00m ioargs\u001b[38;5;241m.\u001b[39mencoding \u001b[38;5;129;01mand\u001b[39;00m \u001b[38;5;124m\"\u001b[39m\u001b[38;5;124mb\u001b[39m\u001b[38;5;124m\"\u001b[39m \u001b[38;5;129;01mnot\u001b[39;00m \u001b[38;5;129;01min\u001b[39;00m ioargs\u001b[38;5;241m.\u001b[39mmode:\n\u001b[1;32m    855\u001b[0m         \u001b[38;5;66;03m# Encoding\u001b[39;00m\n\u001b[0;32m--> 856\u001b[0m         handle \u001b[38;5;241m=\u001b[39m \u001b[38;5;28;43mopen\u001b[39;49m\u001b[43m(\u001b[49m\n\u001b[1;32m    857\u001b[0m \u001b[43m            \u001b[49m\u001b[43mhandle\u001b[49m\u001b[43m,\u001b[49m\n\u001b[1;32m    858\u001b[0m \u001b[43m            \u001b[49m\u001b[43mioargs\u001b[49m\u001b[38;5;241;43m.\u001b[39;49m\u001b[43mmode\u001b[49m\u001b[43m,\u001b[49m\n\u001b[1;32m    859\u001b[0m \u001b[43m            \u001b[49m\u001b[43mencoding\u001b[49m\u001b[38;5;241;43m=\u001b[39;49m\u001b[43mioargs\u001b[49m\u001b[38;5;241;43m.\u001b[39;49m\u001b[43mencoding\u001b[49m\u001b[43m,\u001b[49m\n\u001b[1;32m    860\u001b[0m \u001b[43m            \u001b[49m\u001b[43merrors\u001b[49m\u001b[38;5;241;43m=\u001b[39;49m\u001b[43merrors\u001b[49m\u001b[43m,\u001b[49m\n\u001b[1;32m    861\u001b[0m \u001b[43m            \u001b[49m\u001b[43mnewline\u001b[49m\u001b[38;5;241;43m=\u001b[39;49m\u001b[38;5;124;43m\"\u001b[39;49m\u001b[38;5;124;43m\"\u001b[39;49m\u001b[43m,\u001b[49m\n\u001b[1;32m    862\u001b[0m \u001b[43m        \u001b[49m\u001b[43m)\u001b[49m\n\u001b[1;32m    863\u001b[0m     \u001b[38;5;28;01melse\u001b[39;00m:\n\u001b[1;32m    864\u001b[0m         \u001b[38;5;66;03m# Binary mode\u001b[39;00m\n\u001b[1;32m    865\u001b[0m         handle \u001b[38;5;241m=\u001b[39m \u001b[38;5;28mopen\u001b[39m(handle, ioargs\u001b[38;5;241m.\u001b[39mmode)\n",
      "\u001b[0;31mFileNotFoundError\u001b[0m: [Errno 2] No such file or directory: '\"../T002_compound_adme/data/Covid_data_lip_PIC50.csv'"
     ]
    }
   ],
   "source": [
    "# Molecules in SMILES format\n",
    "molecule_smiles = pd.read_csv('\"../T002_compound_adme/data/Covid_data_lip_PIC50.csv', header = None)\n",
    "molecule_smiles"
   ]
  },
  {
   "cell_type": "code",
   "execution_count": 4,
   "metadata": {},
   "outputs": [
    {
     "data": {
      "text/html": [
       "<div>\n",
       "<style scoped>\n",
       "    .dataframe tbody tr th:only-of-type {\n",
       "        vertical-align: middle;\n",
       "    }\n",
       "\n",
       "    .dataframe tbody tr th {\n",
       "        vertical-align: top;\n",
       "    }\n",
       "\n",
       "    .dataframe thead th {\n",
       "        text-align: right;\n",
       "    }\n",
       "</style>\n",
       "<table border=\"1\" class=\"dataframe\">\n",
       "  <thead>\n",
       "    <tr style=\"text-align: right;\">\n",
       "      <th></th>\n",
       "      <th>0</th>\n",
       "    </tr>\n",
       "  </thead>\n",
       "  <tbody>\n",
       "    <tr>\n",
       "      <th>0</th>\n",
       "      <td>c1(cn(c(=O)cc1)CC(=O)O)C(=O)NCc1ccc(F)cc1\\t</td>\n",
       "    </tr>\n",
       "    <tr>\n",
       "      <th>1</th>\n",
       "      <td>c1(cn(c(=O)cc1)CC(=O)O)C(=O)NC1CCCC1\\t</td>\n",
       "    </tr>\n",
       "    <tr>\n",
       "      <th>2</th>\n",
       "      <td>c1(nc(c(s1)C)C)NC(=O)c1cn(c(=O)cc1)CC(=O)O\\t</td>\n",
       "    </tr>\n",
       "    <tr>\n",
       "      <th>3</th>\n",
       "      <td>c1(cn(c(=O)cc1)CC(=O)NCc1ccccc1)C(=O)O\\t</td>\n",
       "    </tr>\n",
       "    <tr>\n",
       "      <th>4</th>\n",
       "      <td>c1(cn(c(=O)cc1)CC(=O)N1CCCC1)C(=O)O\\t</td>\n",
       "    </tr>\n",
       "    <tr>\n",
       "      <th>...</th>\n",
       "      <td>...</td>\n",
       "    </tr>\n",
       "    <tr>\n",
       "      <th>6822</th>\n",
       "      <td>C(=O)(NC(CC)C)COc1cc([C@@H]2OC[C@@H](c3c(cccc3...</td>\n",
       "    </tr>\n",
       "    <tr>\n",
       "      <th>6823</th>\n",
       "      <td>C(=O)(NCCC)COc1cc([C@@H]2OC[C@@H](c3c(cccc3)Cl...</td>\n",
       "    </tr>\n",
       "    <tr>\n",
       "      <th>6824</th>\n",
       "      <td>C(=O)(NC(C)(C)C)COc1cc([C@@H]2OC[C@@H](c3c(ccc...</td>\n",
       "    </tr>\n",
       "    <tr>\n",
       "      <th>6825</th>\n",
       "      <td>C(=O)(N(C)C)COc1cc([C@@H]2OC[C@@H](c3c(cccc3)C...</td>\n",
       "    </tr>\n",
       "    <tr>\n",
       "      <th>6826</th>\n",
       "      <td>C(=O)(N(CC)CC)COc1cc([C@@H]2OC[C@@H](c3c(cccc3...</td>\n",
       "    </tr>\n",
       "  </tbody>\n",
       "</table>\n",
       "<p>6827 rows × 1 columns</p>\n",
       "</div>"
      ],
      "text/plain": [
       "                                                      0\n",
       "0           c1(cn(c(=O)cc1)CC(=O)O)C(=O)NCc1ccc(F)cc1\\t\n",
       "1                c1(cn(c(=O)cc1)CC(=O)O)C(=O)NC1CCCC1\\t\n",
       "2          c1(nc(c(s1)C)C)NC(=O)c1cn(c(=O)cc1)CC(=O)O\\t\n",
       "3              c1(cn(c(=O)cc1)CC(=O)NCc1ccccc1)C(=O)O\\t\n",
       "4                 c1(cn(c(=O)cc1)CC(=O)N1CCCC1)C(=O)O\\t\n",
       "...                                                 ...\n",
       "6822  C(=O)(NC(CC)C)COc1cc([C@@H]2OC[C@@H](c3c(cccc3...\n",
       "6823  C(=O)(NCCC)COc1cc([C@@H]2OC[C@@H](c3c(cccc3)Cl...\n",
       "6824  C(=O)(NC(C)(C)C)COc1cc([C@@H]2OC[C@@H](c3c(ccc...\n",
       "6825  C(=O)(N(C)C)COc1cc([C@@H]2OC[C@@H](c3c(cccc3)C...\n",
       "6826  C(=O)(N(CC)CC)COc1cc([C@@H]2OC[C@@H](c3c(cccc3...\n",
       "\n",
       "[6827 rows x 1 columns]"
      ]
     },
     "execution_count": 4,
     "metadata": {},
     "output_type": "execute_result"
    }
   ],
   "source": [
    "molecule_smiles"
   ]
  },
  {
   "cell_type": "code",
   "execution_count": 5,
   "metadata": {},
   "outputs": [
    {
     "data": {
      "text/html": [
       "<div>\n",
       "<style scoped>\n",
       "    .dataframe tbody tr th:only-of-type {\n",
       "        vertical-align: middle;\n",
       "    }\n",
       "\n",
       "    .dataframe tbody tr th {\n",
       "        vertical-align: top;\n",
       "    }\n",
       "\n",
       "    .dataframe thead th {\n",
       "        text-align: right;\n",
       "    }\n",
       "</style>\n",
       "<table border=\"1\" class=\"dataframe\">\n",
       "  <thead>\n",
       "    <tr style=\"text-align: right;\">\n",
       "      <th></th>\n",
       "      <th>name</th>\n",
       "      <th>0</th>\n",
       "    </tr>\n",
       "  </thead>\n",
       "  <tbody>\n",
       "    <tr>\n",
       "      <th>0</th>\n",
       "      <td>1</td>\n",
       "      <td>c1(cn(c(=O)cc1)CC(=O)O)C(=O)NCc1ccc(F)cc1\\t</td>\n",
       "    </tr>\n",
       "    <tr>\n",
       "      <th>1</th>\n",
       "      <td>2</td>\n",
       "      <td>c1(cn(c(=O)cc1)CC(=O)O)C(=O)NC1CCCC1\\t</td>\n",
       "    </tr>\n",
       "    <tr>\n",
       "      <th>2</th>\n",
       "      <td>3</td>\n",
       "      <td>c1(nc(c(s1)C)C)NC(=O)c1cn(c(=O)cc1)CC(=O)O\\t</td>\n",
       "    </tr>\n",
       "    <tr>\n",
       "      <th>3</th>\n",
       "      <td>4</td>\n",
       "      <td>c1(cn(c(=O)cc1)CC(=O)NCc1ccccc1)C(=O)O\\t</td>\n",
       "    </tr>\n",
       "    <tr>\n",
       "      <th>4</th>\n",
       "      <td>5</td>\n",
       "      <td>c1(cn(c(=O)cc1)CC(=O)N1CCCC1)C(=O)O\\t</td>\n",
       "    </tr>\n",
       "    <tr>\n",
       "      <th>...</th>\n",
       "      <td>...</td>\n",
       "      <td>...</td>\n",
       "    </tr>\n",
       "    <tr>\n",
       "      <th>6822</th>\n",
       "      <td>6823</td>\n",
       "      <td>C(=O)(NC(CC)C)COc1cc([C@@H]2OC[C@@H](c3c(cccc3...</td>\n",
       "    </tr>\n",
       "    <tr>\n",
       "      <th>6823</th>\n",
       "      <td>6824</td>\n",
       "      <td>C(=O)(NCCC)COc1cc([C@@H]2OC[C@@H](c3c(cccc3)Cl...</td>\n",
       "    </tr>\n",
       "    <tr>\n",
       "      <th>6824</th>\n",
       "      <td>6825</td>\n",
       "      <td>C(=O)(NC(C)(C)C)COc1cc([C@@H]2OC[C@@H](c3c(ccc...</td>\n",
       "    </tr>\n",
       "    <tr>\n",
       "      <th>6825</th>\n",
       "      <td>6826</td>\n",
       "      <td>C(=O)(N(C)C)COc1cc([C@@H]2OC[C@@H](c3c(cccc3)C...</td>\n",
       "    </tr>\n",
       "    <tr>\n",
       "      <th>6826</th>\n",
       "      <td>6827</td>\n",
       "      <td>C(=O)(N(CC)CC)COc1cc([C@@H]2OC[C@@H](c3c(cccc3...</td>\n",
       "    </tr>\n",
       "  </tbody>\n",
       "</table>\n",
       "<p>6827 rows × 2 columns</p>\n",
       "</div>"
      ],
      "text/plain": [
       "      name                                                  0\n",
       "0        1        c1(cn(c(=O)cc1)CC(=O)O)C(=O)NCc1ccc(F)cc1\\t\n",
       "1        2             c1(cn(c(=O)cc1)CC(=O)O)C(=O)NC1CCCC1\\t\n",
       "2        3       c1(nc(c(s1)C)C)NC(=O)c1cn(c(=O)cc1)CC(=O)O\\t\n",
       "3        4           c1(cn(c(=O)cc1)CC(=O)NCc1ccccc1)C(=O)O\\t\n",
       "4        5              c1(cn(c(=O)cc1)CC(=O)N1CCCC1)C(=O)O\\t\n",
       "...    ...                                                ...\n",
       "6822  6823  C(=O)(NC(CC)C)COc1cc([C@@H]2OC[C@@H](c3c(cccc3...\n",
       "6823  6824  C(=O)(NCCC)COc1cc([C@@H]2OC[C@@H](c3c(cccc3)Cl...\n",
       "6824  6825  C(=O)(NC(C)(C)C)COc1cc([C@@H]2OC[C@@H](c3c(ccc...\n",
       "6825  6826  C(=O)(N(C)C)COc1cc([C@@H]2OC[C@@H](c3c(cccc3)C...\n",
       "6826  6827  C(=O)(N(CC)CC)COc1cc([C@@H]2OC[C@@H](c3c(cccc3...\n",
       "\n",
       "[6827 rows x 2 columns]"
      ]
     },
     "execution_count": 5,
     "metadata": {},
     "output_type": "execute_result"
    }
   ],
   "source": [
    "molecule_smiles.insert(0, 'name', range(1, 1 + len(molecule_smiles)))\n",
    "molecule_smiles"
   ]
  },
  {
   "cell_type": "code",
   "execution_count": 12,
   "metadata": {},
   "outputs": [],
   "source": [
    "molecule_smiles.rename(columns = {'0':'smiles'}, inplace = True)\n",
    "molecule_smiles.to_csv('Asenix_antiviral.csv')"
   ]
  },
  {
   "cell_type": "code",
   "execution_count": 10,
   "metadata": {},
   "outputs": [
    {
     "ename": "SyntaxError",
     "evalue": "invalid syntax (3243993798.py, line 2)",
     "output_type": "error",
     "traceback": [
      "\u001b[0;36m  Cell \u001b[0;32mIn [10], line 2\u001b[0;36m\u001b[0m\n\u001b[0;31m    molecule_smiles.0\u001b[0m\n\u001b[0m                   ^\u001b[0m\n\u001b[0;31mSyntaxError\u001b[0m\u001b[0;31m:\u001b[0m invalid syntax\n"
     ]
    }
   ],
   "source": [
    "molecule_smiles['name'] = 'Asenix_' + molecule_smiles['name'].astype(str)\n",
    "molecule_smiles.0"
   ]
  },
  {
   "cell_type": "markdown",
   "metadata": {},
   "source": [
    "Generate a `DataFrame` for these molecules and add their ROMol objects."
   ]
  },
  {
   "cell_type": "code",
   "execution_count": 9,
   "metadata": {},
   "outputs": [
    {
     "data": {
      "text/html": [
       "<div>\n",
       "<style scoped>\n",
       "    .dataframe tbody tr th:only-of-type {\n",
       "        vertical-align: middle;\n",
       "    }\n",
       "\n",
       "    .dataframe tbody tr th {\n",
       "        vertical-align: top;\n",
       "    }\n",
       "\n",
       "    .dataframe thead th {\n",
       "        text-align: right;\n",
       "    }\n",
       "</style>\n",
       "<table border=\"1\" class=\"dataframe\">\n",
       "  <thead>\n",
       "    <tr style=\"text-align: right;\">\n",
       "      <th></th>\n",
       "      <th>name</th>\n",
       "      <th>0</th>\n",
       "    </tr>\n",
       "  </thead>\n",
       "  <tbody>\n",
       "    <tr>\n",
       "      <th>0</th>\n",
       "      <td>Asenix_1</td>\n",
       "      <td>c1(cn(c(=O)cc1)CC(=O)O)C(=O)NCc1ccc(F)cc1\\t</td>\n",
       "    </tr>\n",
       "    <tr>\n",
       "      <th>1</th>\n",
       "      <td>Asenix_2</td>\n",
       "      <td>c1(cn(c(=O)cc1)CC(=O)O)C(=O)NC1CCCC1\\t</td>\n",
       "    </tr>\n",
       "    <tr>\n",
       "      <th>2</th>\n",
       "      <td>Asenix_3</td>\n",
       "      <td>c1(nc(c(s1)C)C)NC(=O)c1cn(c(=O)cc1)CC(=O)O\\t</td>\n",
       "    </tr>\n",
       "    <tr>\n",
       "      <th>3</th>\n",
       "      <td>Asenix_4</td>\n",
       "      <td>c1(cn(c(=O)cc1)CC(=O)NCc1ccccc1)C(=O)O\\t</td>\n",
       "    </tr>\n",
       "    <tr>\n",
       "      <th>4</th>\n",
       "      <td>Asenix_5</td>\n",
       "      <td>c1(cn(c(=O)cc1)CC(=O)N1CCCC1)C(=O)O\\t</td>\n",
       "    </tr>\n",
       "    <tr>\n",
       "      <th>...</th>\n",
       "      <td>...</td>\n",
       "      <td>...</td>\n",
       "    </tr>\n",
       "    <tr>\n",
       "      <th>6822</th>\n",
       "      <td>Asenix_6823</td>\n",
       "      <td>C(=O)(NC(CC)C)COc1cc([C@@H]2OC[C@@H](c3c(cccc3...</td>\n",
       "    </tr>\n",
       "    <tr>\n",
       "      <th>6823</th>\n",
       "      <td>Asenix_6824</td>\n",
       "      <td>C(=O)(NCCC)COc1cc([C@@H]2OC[C@@H](c3c(cccc3)Cl...</td>\n",
       "    </tr>\n",
       "    <tr>\n",
       "      <th>6824</th>\n",
       "      <td>Asenix_6825</td>\n",
       "      <td>C(=O)(NC(C)(C)C)COc1cc([C@@H]2OC[C@@H](c3c(ccc...</td>\n",
       "    </tr>\n",
       "    <tr>\n",
       "      <th>6825</th>\n",
       "      <td>Asenix_6826</td>\n",
       "      <td>C(=O)(N(C)C)COc1cc([C@@H]2OC[C@@H](c3c(cccc3)C...</td>\n",
       "    </tr>\n",
       "    <tr>\n",
       "      <th>6826</th>\n",
       "      <td>Asenix_6827</td>\n",
       "      <td>C(=O)(N(CC)CC)COc1cc([C@@H]2OC[C@@H](c3c(cccc3...</td>\n",
       "    </tr>\n",
       "  </tbody>\n",
       "</table>\n",
       "<p>6827 rows × 2 columns</p>\n",
       "</div>"
      ],
      "text/plain": [
       "             name                                                  0\n",
       "0        Asenix_1        c1(cn(c(=O)cc1)CC(=O)O)C(=O)NCc1ccc(F)cc1\\t\n",
       "1        Asenix_2             c1(cn(c(=O)cc1)CC(=O)O)C(=O)NC1CCCC1\\t\n",
       "2        Asenix_3       c1(nc(c(s1)C)C)NC(=O)c1cn(c(=O)cc1)CC(=O)O\\t\n",
       "3        Asenix_4           c1(cn(c(=O)cc1)CC(=O)NCc1ccccc1)C(=O)O\\t\n",
       "4        Asenix_5              c1(cn(c(=O)cc1)CC(=O)N1CCCC1)C(=O)O\\t\n",
       "...           ...                                                ...\n",
       "6822  Asenix_6823  C(=O)(NC(CC)C)COc1cc([C@@H]2OC[C@@H](c3c(cccc3...\n",
       "6823  Asenix_6824  C(=O)(NCCC)COc1cc([C@@H]2OC[C@@H](c3c(cccc3)Cl...\n",
       "6824  Asenix_6825  C(=O)(NC(C)(C)C)COc1cc([C@@H]2OC[C@@H](c3c(ccc...\n",
       "6825  Asenix_6826  C(=O)(N(C)C)COc1cc([C@@H]2OC[C@@H](c3c(cccc3)C...\n",
       "6826  Asenix_6827  C(=O)(N(CC)CC)COc1cc([C@@H]2OC[C@@H](c3c(cccc3...\n",
       "\n",
       "[6827 rows x 2 columns]"
      ]
     },
     "execution_count": 9,
     "metadata": {},
     "output_type": "execute_result"
    }
   ],
   "source": [
    "molecule_smiles.rename(columns={molecule_smiles.columns[1]: \"smiles\"}, errors=\"raise\")\n",
    "molecule_smiles"
   ]
  },
  {
   "cell_type": "code",
   "execution_count": null,
   "metadata": {},
   "outputs": [],
   "source": [
    "molecules = pd.DataFrame({\"smiles\": molecule_smiles, \"name\": molecule_names})\n",
    "PandasTools.AddMoleculeColumnToFrame(molecules, smilesCol=\"smiles\")\n",
    "# Show first 2 molecules\n",
    "molecules.head(2)"
   ]
  },
  {
   "cell_type": "markdown",
   "metadata": {},
   "source": [
    "Visualize all molecules."
   ]
  },
  {
   "cell_type": "code",
   "execution_count": null,
   "metadata": {},
   "outputs": [],
   "source": [
    "Draw.MolsToGridImage(\n",
    "    molecules[\"ROMol\"].to_list(),\n",
    "    molsPerRow=3,\n",
    "    subImgSize=(450, 150),\n",
    "    legends=molecules[\"name\"].to_list(),\n",
    ")"
   ]
  },
  {
   "cell_type": "markdown",
   "metadata": {},
   "source": [
    "### Calculate molecular descriptors\n",
    "\n",
    "We extract and generate 1D and 2D molecular descriptors to compare our molecules. \n",
    "For 2D descriptors, different types of fingerprints are generated to be used later for the calculation of the molecular similarity."
   ]
  },
  {
   "cell_type": "markdown",
   "metadata": {},
   "source": [
    "#### 1D molecular descriptors: Molecular weight\n",
    "\n",
    "We calculate the molecular weight of our example structures."
   ]
  },
  {
   "cell_type": "code",
   "execution_count": null,
   "metadata": {},
   "outputs": [],
   "source": [
    "# Note -- we use pandas apply function to apply the MolWt function\n",
    "# to all ROMol objects in the DataFrame\n",
    "molecules[\"molecule_weight\"] = molecules.ROMol.apply(Descriptors.MolWt)\n",
    "# Sort molecules by molecular weight\n",
    "molecules.sort_values([\"molecule_weight\"], ascending=False, inplace=True)"
   ]
  },
  {
   "cell_type": "markdown",
   "metadata": {},
   "source": [
    "We draw our molecular structures with their similar molecular weight for visual comparison: Is the molecular weight a feasible descriptor for molecule similarity?"
   ]
  },
  {
   "cell_type": "code",
   "execution_count": null,
   "metadata": {},
   "outputs": [],
   "source": [
    "# Show only molecule names and molecular weights\n",
    "molecules[[\"smiles\", \"name\", \"molecule_weight\"]]\n",
    "# NBVAL_CHECK_OUTPUT"
   ]
  },
  {
   "cell_type": "markdown",
   "metadata": {},
   "source": [
    "We draw the molecules with their molecular weight."
   ]
  },
  {
   "cell_type": "code",
   "execution_count": null,
   "metadata": {},
   "outputs": [],
   "source": [
    "Draw.MolsToGridImage(\n",
    "    molecules[\"ROMol\"],\n",
    "    legends=[\n",
    "        f\"{molecule['name']}: {molecule['molecule_weight']:.2f} Da\"\n",
    "        for index, molecule in molecules.iterrows()\n",
    "    ],\n",
    "    subImgSize=(450, 150),\n",
    "    molsPerRow=3,\n",
    ")"
   ]
  },
  {
   "cell_type": "markdown",
   "metadata": {},
   "source": [
    "As we can see, molecules with similar molecular weight can have a similar structure (e.g. Doxycycline/Tetracycline), however they can also have a similar number of atoms in completely different arrangements (e.g. Doxycycline/Glycol dilaurate or Hydrochlorothiazide/Isotretinoin).\n",
    "\n",
    "In order to account for more detailed properties of a molecule, we now take a look at 2D molecular descriptors."
   ]
  },
  {
   "cell_type": "markdown",
   "metadata": {},
   "source": [
    "#### 2D molecular descriptors: MACCS fingerprint"
   ]
  },
  {
   "cell_type": "markdown",
   "metadata": {},
   "source": [
    "__Example molecule__: Let's use an example molecule from our `DataFrame`."
   ]
  },
  {
   "cell_type": "code",
   "execution_count": null,
   "metadata": {},
   "outputs": [],
   "source": [
    "molecule = molecules[\"ROMol\"][0]\n",
    "molecule"
   ]
  },
  {
   "cell_type": "markdown",
   "metadata": {},
   "source": [
    "MACCS fingerprints can be easily generated using `rdkit`."
   ]
  },
  {
   "cell_type": "code",
   "execution_count": null,
   "metadata": {},
   "outputs": [],
   "source": [
    "maccs_fp = MACCSkeys.GenMACCSKeys(molecule)"
   ]
  },
  {
   "cell_type": "markdown",
   "metadata": {},
   "source": [
    "As explicit bitvectors are not human-readable, we will further transform them to bitstrings."
   ]
  },
  {
   "cell_type": "code",
   "execution_count": null,
   "metadata": {
    "scrolled": true
   },
   "outputs": [],
   "source": [
    "# NBVAL_CHECK_OUTPUT\n",
    "maccs_fp.ToBitString()"
   ]
  },
  {
   "cell_type": "markdown",
   "metadata": {},
   "source": [
    "__Applied to all molecules__: Add MACCS fingerprints for all molecules to the `DataFrame`."
   ]
  },
  {
   "cell_type": "code",
   "execution_count": null,
   "metadata": {},
   "outputs": [],
   "source": [
    "molecules[\"maccs\"] = molecules.ROMol.apply(MACCSkeys.GenMACCSKeys)"
   ]
  },
  {
   "cell_type": "markdown",
   "metadata": {},
   "source": [
    "#### 2D molecular descriptors: Morgan fingerprint\n",
    "\n",
    "We can also calculate the circular Morgan fingerprints with `rdkit`. The Morgan fingerprint can be calculated either as int or bit vector. By default the radius is 2 and the vector is 2048 long. \n",
    "\n",
    "__Example molecule__: Let's use again with our example molecule."
   ]
  },
  {
   "cell_type": "markdown",
   "metadata": {},
   "source": [
    "Generate the Morgan fingerprint _as int vector_."
   ]
  },
  {
   "cell_type": "code",
   "execution_count": null,
   "metadata": {
    "tags": []
   },
   "outputs": [],
   "source": [
    "circular_int_fp = rdFingerprintGenerator.GetCountFPs([molecule])[0]\n",
    "circular_int_fp"
   ]
  },
  {
   "cell_type": "code",
   "execution_count": null,
   "metadata": {},
   "outputs": [],
   "source": [
    "# NBVAL_CHECK_OUTPUT\n",
    "print(f\"Print non-zero elements:\\n{circular_int_fp.GetNonzeroElements()}\")"
   ]
  },
  {
   "cell_type": "markdown",
   "metadata": {},
   "source": [
    "Generate the Morgan fingerprint _as bit vector_."
   ]
  },
  {
   "cell_type": "code",
   "execution_count": null,
   "metadata": {
    "scrolled": true
   },
   "outputs": [],
   "source": [
    "# Note that the function takes a list as input parameter\n",
    "# (even if we only want to pass one molecule)\n",
    "circular_bit_fp = rdFingerprintGenerator.GetFPs([molecule])[0]\n",
    "circular_bit_fp"
   ]
  },
  {
   "cell_type": "code",
   "execution_count": null,
   "metadata": {
    "scrolled": true,
    "tags": []
   },
   "outputs": [],
   "source": [
    "# NBVAL_CHECK_OUTPUT\n",
    "print(f\"Print top 400 fingerprint bits:\\n{circular_bit_fp.ToBitString()[:400]}\")"
   ]
  },
  {
   "cell_type": "markdown",
   "metadata": {},
   "source": [
    "__Applied to all molecules__: Add Morgan fingerprints (as bit vector) for all molecules to the `DataFrame`."
   ]
  },
  {
   "cell_type": "code",
   "execution_count": null,
   "metadata": {},
   "outputs": [],
   "source": [
    "molecules[\"morgan\"] = rdFingerprintGenerator.GetFPs(molecules[\"ROMol\"].tolist())"
   ]
  },
  {
   "cell_type": "markdown",
   "metadata": {},
   "source": [
    "### Calculate molecular similarity\n",
    "\n",
    "In the following, we will apply two similarity measures, i.e. **Tanimoto** and **Dice**, to our two fingerprint types, i.e. **MACCS** and **Morgan** fingerprints.\n",
    "\n",
    "__Example molecule pair__: Compare two MACCS fingerprints with the Tanimoto similarity."
   ]
  },
  {
   "cell_type": "code",
   "execution_count": null,
   "metadata": {},
   "outputs": [],
   "source": [
    "# Example molecules\n",
    "molecule1 = molecules[\"ROMol\"][0]\n",
    "molecule2 = molecules[\"ROMol\"][1]\n",
    "\n",
    "# Example fingerprints\n",
    "maccs_fp1 = MACCSkeys.GenMACCSKeys(molecule1)\n",
    "maccs_fp2 = MACCSkeys.GenMACCSKeys(molecule2)"
   ]
  },
  {
   "cell_type": "markdown",
   "metadata": {},
   "source": [
    "Calculate the Tanimoto coefficient _between two different molecules_."
   ]
  },
  {
   "cell_type": "code",
   "execution_count": null,
   "metadata": {},
   "outputs": [],
   "source": [
    "# NBVAL_CHECK_OUTPUT\n",
    "DataStructs.TanimotoSimilarity(maccs_fp1, maccs_fp2)"
   ]
  },
  {
   "cell_type": "markdown",
   "metadata": {},
   "source": [
    "Calculate Tanimoto coefficient _between the same molecule_."
   ]
  },
  {
   "cell_type": "code",
   "execution_count": null,
   "metadata": {},
   "outputs": [],
   "source": [
    "# NBVAL_CHECK_OUTPUT\n",
    "DataStructs.TanimotoSimilarity(maccs_fp1, maccs_fp1)"
   ]
  },
  {
   "cell_type": "markdown",
   "metadata": {},
   "source": [
    "In the following, we want to compare a query molecule with our molecule list. \n",
    "Therefore, we use `BulkTanimotoSimilarity` and `BulkDiceSimilarity` from `rdkit` that calculate the similarity of a query fingerprint with a list of fingerprints, based on a similarity measure. We will investigate all combinations of MACCS/Morgan fingerprint comparisons based on the Tanimoto/Dice similarity measure."
   ]
  },
  {
   "cell_type": "markdown",
   "metadata": {},
   "source": [
    "#### MACCS fingerprints: Tanimoto similarity and Dice similarity"
   ]
  },
  {
   "cell_type": "markdown",
   "metadata": {},
   "source": [
    "Add the Tanimoto and Dice similarities between MACCS fingerprints to the `DataFrame`."
   ]
  },
  {
   "cell_type": "code",
   "execution_count": null,
   "metadata": {},
   "outputs": [],
   "source": [
    "# Define molecule query and list\n",
    "molecule_query = molecules[\"maccs\"][0]\n",
    "molecule_list = molecules[\"maccs\"].to_list()\n",
    "# Calculate similarty values between query and list elements\n",
    "molecules[\"tanimoto_maccs\"] = DataStructs.BulkTanimotoSimilarity(molecule_query, molecule_list)\n",
    "molecules[\"dice_maccs\"] = DataStructs.BulkDiceSimilarity(molecule_query, molecule_list)"
   ]
  },
  {
   "cell_type": "markdown",
   "metadata": {},
   "source": [
    "Sort the `DataFrame` by the Tanimoto similarity of the MACCS fingerprints (show only name and similarity columns!)."
   ]
  },
  {
   "cell_type": "code",
   "execution_count": null,
   "metadata": {},
   "outputs": [],
   "source": [
    "preview = molecules.sort_values([\"tanimoto_maccs\"], ascending=False).reset_index()\n",
    "preview[[\"name\", \"tanimoto_maccs\", \"dice_maccs\"]]\n",
    "# NBVAL_CHECK_OUTPUT"
   ]
  },
  {
   "cell_type": "markdown",
   "metadata": {},
   "source": [
    "__Note__: Tanimoto and Dice similarity measures by definition result in the same ranking of molecules, with higher values for the Dice similarity (see Tanimoto and Dice equations in the theory section of this talktorial)."
   ]
  },
  {
   "cell_type": "markdown",
   "metadata": {},
   "source": [
    "Draw molecules ranked by the Tanimoto similarity of MACCS fingerprints."
   ]
  },
  {
   "cell_type": "code",
   "execution_count": null,
   "metadata": {},
   "outputs": [],
   "source": [
    "def draw_ranked_molecules(molecules, sort_by_column):\n",
    "    \"\"\"\n",
    "    Draw molecules sorted by a given column.\n",
    "\n",
    "    Parameters\n",
    "    ----------\n",
    "    molecules : pandas.DataFrame\n",
    "        Molecules (with \"ROMol\" and \"name\" columns and a column to sort by.\n",
    "    sort_by_column : str\n",
    "        Name of the column used to sort the molecules by.\n",
    "\n",
    "    Returns\n",
    "    -------\n",
    "    Draw.MolsToGridImage\n",
    "        2D visualization of sorted molecules.\n",
    "    \"\"\"\n",
    "\n",
    "    molecules_sorted = molecules.sort_values([sort_by_column], ascending=False).reset_index()\n",
    "    return Draw.MolsToGridImage(\n",
    "        molecules_sorted[\"ROMol\"],\n",
    "        legends=[\n",
    "            f\"#{index+1} {molecule['name']}, similarity={molecule[sort_by_column]:.2f}\"\n",
    "            for index, molecule in molecules_sorted.iterrows()\n",
    "        ],\n",
    "        molsPerRow=3,\n",
    "        subImgSize=(450, 150),\n",
    "    )"
   ]
  },
  {
   "cell_type": "code",
   "execution_count": null,
   "metadata": {},
   "outputs": [],
   "source": [
    "draw_ranked_molecules(molecules, \"tanimoto_maccs\")"
   ]
  },
  {
   "cell_type": "markdown",
   "metadata": {},
   "source": [
    "With MACCS fingerprints, Tetracycline is the most similar molecule (high score), followed by Amoxicilline. In contrast to the 1D descriptor molecular weight, the linear molecule Glycol dilaurate is recognized as dissimilar (last rank)."
   ]
  },
  {
   "cell_type": "markdown",
   "metadata": {},
   "source": [
    "#### Morgan fingerprints: Tanimoto similarity and Dice similarity"
   ]
  },
  {
   "cell_type": "markdown",
   "metadata": {},
   "source": [
    "Add the Tanimoto and Dice similarities between the Morgan fingerprints to the `DataFrame`."
   ]
  },
  {
   "cell_type": "code",
   "execution_count": null,
   "metadata": {
    "scrolled": true
   },
   "outputs": [],
   "source": [
    "# Define molecule query and list\n",
    "molecule_query = molecules[\"morgan\"][0]\n",
    "molecule_list = molecules[\"morgan\"].to_list()\n",
    "# Calculate similarty values between query and list elements\n",
    "molecules[\"tanimoto_morgan\"] = DataStructs.BulkTanimotoSimilarity(molecule_query, molecule_list)\n",
    "molecules[\"dice_morgan\"] = DataStructs.BulkDiceSimilarity(molecule_query, molecule_list)"
   ]
  },
  {
   "cell_type": "markdown",
   "metadata": {},
   "source": [
    "Sort the `DataFrame` by the Tanimoto similarity of the Morgan fingerprints."
   ]
  },
  {
   "cell_type": "code",
   "execution_count": null,
   "metadata": {},
   "outputs": [],
   "source": [
    "preview = molecules.sort_values([\"tanimoto_morgan\"], ascending=False).reset_index()\n",
    "preview[[\"name\", \"tanimoto_morgan\", \"dice_morgan\", \"tanimoto_maccs\", \"dice_maccs\"]]\n",
    "# NBVAL_CHECK_OUTPUT"
   ]
  },
  {
   "cell_type": "markdown",
   "metadata": {},
   "source": [
    "Draw molecules ranked by the Tanimoto similarities of Morgan fingerprints."
   ]
  },
  {
   "cell_type": "code",
   "execution_count": null,
   "metadata": {},
   "outputs": [],
   "source": [
    "draw_ranked_molecules(molecules, \"tanimoto_morgan\")"
   ]
  },
  {
   "cell_type": "markdown",
   "metadata": {},
   "source": [
    "We compare the Tanimoto similarities based on MACCS and Morgan fingerprints. Therefore, we plot the Tanimoto similarities based on Morgen fingerprints vs. the Tanimoto simlarities based on MACCS fingerprints."
   ]
  },
  {
   "cell_type": "code",
   "execution_count": null,
   "metadata": {},
   "outputs": [],
   "source": [
    "fig, ax = plt.subplots(figsize=(6, 6))\n",
    "molecules.plot(\"tanimoto_maccs\", \"tanimoto_morgan\", kind=\"scatter\", ax=ax)\n",
    "ax.plot([0, 1], [0, 1], \"k--\")\n",
    "ax.set_xlabel(\"Tanimoto (MACCS)\")\n",
    "ax.set_ylabel(\"Tanimoto (Morgan)\")\n",
    "fig;"
   ]
  },
  {
   "cell_type": "markdown",
   "metadata": {},
   "source": [
    "Usage of different fingerprints (here: MACCS and Morgan fingerprints) results in different similarity values (here: Tanimoto similarity) and thus potentially also in different rankings of molecule similarity as shown here. \n",
    "\n",
    "Morgan fingerprints also recognize Tetracycline as the most similar molecule to Doxycycline (but with a lower score), and Clycol dilaurate as most dissimilar. However, ranked second is Hemi-cycline D, a structural part of cyclines - possibly because of the atom environment-based algorithm of Morgan fingerprints (whereas MACCS fingerprints rather ask for the occurrence of certain properties). "
   ]
  },
  {
   "cell_type": "markdown",
   "metadata": {},
   "source": [
    "### Virtual screening using similarity search\n",
    "\n",
    "Now that we have learned how to calculate fingerprints and the similarity between them, we can apply this knowledge to a similarity search of a query molecule against a full data set of molecules. \n",
    "\n",
    "We use the known EGFR inhibitor Gefitinib as query and search for similar molecules in our data set of molecules tested on EGFR, which we collected from the ChEMBL database in **Talktorial T001** and filtered by Lipinski's rule of five in **Talktorial T002**."
   ]
  },
  {
   "cell_type": "markdown",
   "metadata": {},
   "source": [
    "#### Compare query molecule to all molecules in the data set\n",
    "\n",
    "We import molecules from a *csv* file containing the filtered EGFR-tested molecules from the ChEMBL database as provided by **Talktorial T002**. Given one query molecule (here Gefitinib), we screen that data set for similar molecules."
   ]
  },
  {
   "cell_type": "markdown",
   "metadata": {},
   "source": [
    "__Dataset__: Import data from the _csv_ file containing molecules in the SMILES format."
   ]
  },
  {
   "cell_type": "code",
   "execution_count": 32,
   "metadata": {
    "scrolled": true
   },
   "outputs": [
    {
     "name": "stdout",
     "output_type": "stream",
     "text": [
      "Number of molecules in dataset: 306\n"
     ]
    },
    {
     "data": {
      "text/html": [
       "<div>\n",
       "<style scoped>\n",
       "    .dataframe tbody tr th:only-of-type {\n",
       "        vertical-align: middle;\n",
       "    }\n",
       "\n",
       "    .dataframe tbody tr th {\n",
       "        vertical-align: top;\n",
       "    }\n",
       "\n",
       "    .dataframe thead th {\n",
       "        text-align: right;\n",
       "    }\n",
       "</style>\n",
       "<table border=\"1\" class=\"dataframe\">\n",
       "  <thead>\n",
       "    <tr style=\"text-align: right;\">\n",
       "      <th></th>\n",
       "      <th>Mol_BDB_ID</th>\n",
       "      <th>Smiles</th>\n",
       "      <th>IC50_nm</th>\n",
       "      <th>bioactivity_class</th>\n",
       "      <th>MW</th>\n",
       "      <th>LogP</th>\n",
       "      <th>NumHDonors</th>\n",
       "      <th>NumHAcceptors</th>\n",
       "      <th>NumHeteroatoms</th>\n",
       "      <th>NumRotatableBonds</th>\n",
       "      <th>NumValenceElectrons</th>\n",
       "      <th>NumAromaticRings</th>\n",
       "      <th>NumSaturatedRings</th>\n",
       "      <th>NumAliphaticRings</th>\n",
       "      <th>pIC50</th>\n",
       "    </tr>\n",
       "  </thead>\n",
       "  <tbody>\n",
       "    <tr>\n",
       "      <th>0</th>\n",
       "      <td>1074441</td>\n",
       "      <td>FC(F)(F)Oc1ccc(N([C@@H](C(=O)NC2CCC(F)(F)CC2)c...</td>\n",
       "      <td>30.0</td>\n",
       "      <td>active</td>\n",
       "      <td>531.869</td>\n",
       "      <td>4.25408</td>\n",
       "      <td>1.0</td>\n",
       "      <td>6.0</td>\n",
       "      <td>14.0</td>\n",
       "      <td>7.0</td>\n",
       "      <td>192.0</td>\n",
       "      <td>2.0</td>\n",
       "      <td>1.0</td>\n",
       "      <td>1.0</td>\n",
       "      <td>7.522879</td>\n",
       "    </tr>\n",
       "    <tr>\n",
       "      <th>1</th>\n",
       "      <td>1074558</td>\n",
       "      <td>ClCC(=O)N([C@@H](C(=O)N[C@H]1CCOC1)c1cnccn1)c1...</td>\n",
       "      <td>39.0</td>\n",
       "      <td>active</td>\n",
       "      <td>441.875</td>\n",
       "      <td>2.34980</td>\n",
       "      <td>1.0</td>\n",
       "      <td>7.0</td>\n",
       "      <td>10.0</td>\n",
       "      <td>7.0</td>\n",
       "      <td>160.0</td>\n",
       "      <td>3.0</td>\n",
       "      <td>1.0</td>\n",
       "      <td>1.0</td>\n",
       "      <td>7.408935</td>\n",
       "    </tr>\n",
       "    <tr>\n",
       "      <th>2</th>\n",
       "      <td>1074516</td>\n",
       "      <td>FC1(F)CCC(CC1)NC(=O)[C@H](N(C(=O)CCl)c1ccc(cc1...</td>\n",
       "      <td>50.0</td>\n",
       "      <td>active</td>\n",
       "      <td>505.978</td>\n",
       "      <td>4.60730</td>\n",
       "      <td>1.0</td>\n",
       "      <td>6.0</td>\n",
       "      <td>11.0</td>\n",
       "      <td>7.0</td>\n",
       "      <td>178.0</td>\n",
       "      <td>3.0</td>\n",
       "      <td>1.0</td>\n",
       "      <td>1.0</td>\n",
       "      <td>7.301030</td>\n",
       "    </tr>\n",
       "    <tr>\n",
       "      <th>3</th>\n",
       "      <td>1074541</td>\n",
       "      <td>FC1(F)CCC(CC1)NC(=O)[C@H](N(C(=O)CCl)c1ccc(cc1...</td>\n",
       "      <td>50.0</td>\n",
       "      <td>active</td>\n",
       "      <td>505.978</td>\n",
       "      <td>4.60730</td>\n",
       "      <td>1.0</td>\n",
       "      <td>6.0</td>\n",
       "      <td>11.0</td>\n",
       "      <td>7.0</td>\n",
       "      <td>178.0</td>\n",
       "      <td>3.0</td>\n",
       "      <td>1.0</td>\n",
       "      <td>1.0</td>\n",
       "      <td>7.301030</td>\n",
       "    </tr>\n",
       "    <tr>\n",
       "      <th>4</th>\n",
       "      <td>1074478</td>\n",
       "      <td>F[C@@H](Cl)C(=O)N([C@H](C(=O)NC1CCC(F)(F)CC1)c...</td>\n",
       "      <td>60.0</td>\n",
       "      <td>active</td>\n",
       "      <td>523.968</td>\n",
       "      <td>4.90290</td>\n",
       "      <td>1.0</td>\n",
       "      <td>6.0</td>\n",
       "      <td>12.0</td>\n",
       "      <td>7.0</td>\n",
       "      <td>184.0</td>\n",
       "      <td>3.0</td>\n",
       "      <td>1.0</td>\n",
       "      <td>1.0</td>\n",
       "      <td>7.221849</td>\n",
       "    </tr>\n",
       "  </tbody>\n",
       "</table>\n",
       "</div>"
      ],
      "text/plain": [
       "   Mol_BDB_ID                                             Smiles  IC50_nm  \\\n",
       "0     1074441  FC(F)(F)Oc1ccc(N([C@@H](C(=O)NC2CCC(F)(F)CC2)c...     30.0   \n",
       "1     1074558  ClCC(=O)N([C@@H](C(=O)N[C@H]1CCOC1)c1cnccn1)c1...     39.0   \n",
       "2     1074516  FC1(F)CCC(CC1)NC(=O)[C@H](N(C(=O)CCl)c1ccc(cc1...     50.0   \n",
       "3     1074541  FC1(F)CCC(CC1)NC(=O)[C@H](N(C(=O)CCl)c1ccc(cc1...     50.0   \n",
       "4     1074478  F[C@@H](Cl)C(=O)N([C@H](C(=O)NC1CCC(F)(F)CC1)c...     60.0   \n",
       "\n",
       "  bioactivity_class       MW     LogP  NumHDonors  NumHAcceptors  \\\n",
       "0            active  531.869  4.25408         1.0            6.0   \n",
       "1            active  441.875  2.34980         1.0            7.0   \n",
       "2            active  505.978  4.60730         1.0            6.0   \n",
       "3            active  505.978  4.60730         1.0            6.0   \n",
       "4            active  523.968  4.90290         1.0            6.0   \n",
       "\n",
       "   NumHeteroatoms  NumRotatableBonds  NumValenceElectrons  NumAromaticRings  \\\n",
       "0            14.0                7.0                192.0               2.0   \n",
       "1            10.0                7.0                160.0               3.0   \n",
       "2            11.0                7.0                178.0               3.0   \n",
       "3            11.0                7.0                178.0               3.0   \n",
       "4            12.0                7.0                184.0               3.0   \n",
       "\n",
       "   NumSaturatedRings  NumAliphaticRings     pIC50  \n",
       "0                1.0                1.0  7.522879  \n",
       "1                1.0                1.0  7.408935  \n",
       "2                1.0                1.0  7.301030  \n",
       "3                1.0                1.0  7.301030  \n",
       "4                1.0                1.0  7.221849  "
      ]
     },
     "execution_count": 32,
     "metadata": {},
     "output_type": "execute_result"
    }
   ],
   "source": [
    "molecule_dataset = pd.read_csv(\"Covid_data_lip_PIC50.csv\")\n",
    "print(f\"Number of molecules in dataset: {len(molecule_dataset)}\")\n",
    "molecule_dataset.head(5)"
   ]
  },
  {
   "cell_type": "code",
   "execution_count": 33,
   "metadata": {},
   "outputs": [
    {
     "data": {
      "text/html": [
       "<div>\n",
       "<style scoped>\n",
       "    .dataframe tbody tr th:only-of-type {\n",
       "        vertical-align: middle;\n",
       "    }\n",
       "\n",
       "    .dataframe tbody tr th {\n",
       "        vertical-align: top;\n",
       "    }\n",
       "\n",
       "    .dataframe thead th {\n",
       "        text-align: right;\n",
       "    }\n",
       "</style>\n",
       "<table border=\"1\" class=\"dataframe\">\n",
       "  <thead>\n",
       "    <tr style=\"text-align: right;\">\n",
       "      <th></th>\n",
       "      <th>Mol_BDB_ID</th>\n",
       "      <th>Smiles</th>\n",
       "      <th>Smiles</th>\n",
       "      <th>bioactivity_class</th>\n",
       "      <th>MW</th>\n",
       "      <th>LogP</th>\n",
       "      <th>NumHDonors</th>\n",
       "      <th>NumHAcceptors</th>\n",
       "      <th>NumHeteroatoms</th>\n",
       "      <th>NumRotatableBonds</th>\n",
       "      <th>NumValenceElectrons</th>\n",
       "      <th>NumAromaticRings</th>\n",
       "      <th>NumSaturatedRings</th>\n",
       "      <th>NumAliphaticRings</th>\n",
       "      <th>pIC50</th>\n",
       "    </tr>\n",
       "  </thead>\n",
       "  <tbody>\n",
       "    <tr>\n",
       "      <th>0</th>\n",
       "      <td>1074441</td>\n",
       "      <td>FC(F)(F)Oc1ccc(N([C@@H](C(=O)NC2CCC(F)(F)CC2)c...</td>\n",
       "      <td>30.0</td>\n",
       "      <td>active</td>\n",
       "      <td>531.869</td>\n",
       "      <td>4.25408</td>\n",
       "      <td>1.0</td>\n",
       "      <td>6.0</td>\n",
       "      <td>14.0</td>\n",
       "      <td>7.0</td>\n",
       "      <td>192.0</td>\n",
       "      <td>2.0</td>\n",
       "      <td>1.0</td>\n",
       "      <td>1.0</td>\n",
       "      <td>7.522879</td>\n",
       "    </tr>\n",
       "    <tr>\n",
       "      <th>1</th>\n",
       "      <td>1074558</td>\n",
       "      <td>ClCC(=O)N([C@@H](C(=O)N[C@H]1CCOC1)c1cnccn1)c1...</td>\n",
       "      <td>39.0</td>\n",
       "      <td>active</td>\n",
       "      <td>441.875</td>\n",
       "      <td>2.34980</td>\n",
       "      <td>1.0</td>\n",
       "      <td>7.0</td>\n",
       "      <td>10.0</td>\n",
       "      <td>7.0</td>\n",
       "      <td>160.0</td>\n",
       "      <td>3.0</td>\n",
       "      <td>1.0</td>\n",
       "      <td>1.0</td>\n",
       "      <td>7.408935</td>\n",
       "    </tr>\n",
       "    <tr>\n",
       "      <th>2</th>\n",
       "      <td>1074516</td>\n",
       "      <td>FC1(F)CCC(CC1)NC(=O)[C@H](N(C(=O)CCl)c1ccc(cc1...</td>\n",
       "      <td>50.0</td>\n",
       "      <td>active</td>\n",
       "      <td>505.978</td>\n",
       "      <td>4.60730</td>\n",
       "      <td>1.0</td>\n",
       "      <td>6.0</td>\n",
       "      <td>11.0</td>\n",
       "      <td>7.0</td>\n",
       "      <td>178.0</td>\n",
       "      <td>3.0</td>\n",
       "      <td>1.0</td>\n",
       "      <td>1.0</td>\n",
       "      <td>7.301030</td>\n",
       "    </tr>\n",
       "    <tr>\n",
       "      <th>3</th>\n",
       "      <td>1074541</td>\n",
       "      <td>FC1(F)CCC(CC1)NC(=O)[C@H](N(C(=O)CCl)c1ccc(cc1...</td>\n",
       "      <td>50.0</td>\n",
       "      <td>active</td>\n",
       "      <td>505.978</td>\n",
       "      <td>4.60730</td>\n",
       "      <td>1.0</td>\n",
       "      <td>6.0</td>\n",
       "      <td>11.0</td>\n",
       "      <td>7.0</td>\n",
       "      <td>178.0</td>\n",
       "      <td>3.0</td>\n",
       "      <td>1.0</td>\n",
       "      <td>1.0</td>\n",
       "      <td>7.301030</td>\n",
       "    </tr>\n",
       "    <tr>\n",
       "      <th>4</th>\n",
       "      <td>1074478</td>\n",
       "      <td>F[C@@H](Cl)C(=O)N([C@H](C(=O)NC1CCC(F)(F)CC1)c...</td>\n",
       "      <td>60.0</td>\n",
       "      <td>active</td>\n",
       "      <td>523.968</td>\n",
       "      <td>4.90290</td>\n",
       "      <td>1.0</td>\n",
       "      <td>6.0</td>\n",
       "      <td>12.0</td>\n",
       "      <td>7.0</td>\n",
       "      <td>184.0</td>\n",
       "      <td>3.0</td>\n",
       "      <td>1.0</td>\n",
       "      <td>1.0</td>\n",
       "      <td>7.221849</td>\n",
       "    </tr>\n",
       "    <tr>\n",
       "      <th>...</th>\n",
       "      <td>...</td>\n",
       "      <td>...</td>\n",
       "      <td>...</td>\n",
       "      <td>...</td>\n",
       "      <td>...</td>\n",
       "      <td>...</td>\n",
       "      <td>...</td>\n",
       "      <td>...</td>\n",
       "      <td>...</td>\n",
       "      <td>...</td>\n",
       "      <td>...</td>\n",
       "      <td>...</td>\n",
       "      <td>...</td>\n",
       "      <td>...</td>\n",
       "      <td>...</td>\n",
       "    </tr>\n",
       "    <tr>\n",
       "      <th>301</th>\n",
       "      <td>1033981</td>\n",
       "      <td>CC(C)C[C@@H](NC(=O)[C@H](Cc1cccc2ccccc12)NC(=O...</td>\n",
       "      <td>230.0</td>\n",
       "      <td>active</td>\n",
       "      <td>600.716</td>\n",
       "      <td>3.41810</td>\n",
       "      <td>4.0</td>\n",
       "      <td>6.0</td>\n",
       "      <td>10.0</td>\n",
       "      <td>14.0</td>\n",
       "      <td>232.0</td>\n",
       "      <td>3.0</td>\n",
       "      <td>1.0</td>\n",
       "      <td>1.0</td>\n",
       "      <td>6.638272</td>\n",
       "    </tr>\n",
       "    <tr>\n",
       "      <th>302</th>\n",
       "      <td>989758</td>\n",
       "      <td>CCOC(=O)\\C=C\\[C@H](C[C@@H]1CCNC1=O)NC(=O)[C@H]...</td>\n",
       "      <td>286.0</td>\n",
       "      <td>active</td>\n",
       "      <td>572.703</td>\n",
       "      <td>2.59860</td>\n",
       "      <td>4.0</td>\n",
       "      <td>7.0</td>\n",
       "      <td>11.0</td>\n",
       "      <td>15.0</td>\n",
       "      <td>226.0</td>\n",
       "      <td>1.0</td>\n",
       "      <td>1.0</td>\n",
       "      <td>1.0</td>\n",
       "      <td>6.543634</td>\n",
       "    </tr>\n",
       "    <tr>\n",
       "      <th>303</th>\n",
       "      <td>868855</td>\n",
       "      <td>Cc1ccc(cc1)S(=O)(=O)n1ccc2cc(ccc12)C(=O)Oc1cnc...</td>\n",
       "      <td>310.0</td>\n",
       "      <td>active</td>\n",
       "      <td>426.881</td>\n",
       "      <td>4.45432</td>\n",
       "      <td>0.0</td>\n",
       "      <td>6.0</td>\n",
       "      <td>8.0</td>\n",
       "      <td>4.0</td>\n",
       "      <td>146.0</td>\n",
       "      <td>4.0</td>\n",
       "      <td>0.0</td>\n",
       "      <td>0.0</td>\n",
       "      <td>6.508638</td>\n",
       "    </tr>\n",
       "    <tr>\n",
       "      <th>304</th>\n",
       "      <td>1129710</td>\n",
       "      <td>N[C@@H](CC[C@H](N)C(O)=O)C[C@H]1O[C@H]([C@H](O...</td>\n",
       "      <td>360.0</td>\n",
       "      <td>active</td>\n",
       "      <td>381.393</td>\n",
       "      <td>-2.06280</td>\n",
       "      <td>6.0</td>\n",
       "      <td>11.0</td>\n",
       "      <td>12.0</td>\n",
       "      <td>7.0</td>\n",
       "      <td>148.0</td>\n",
       "      <td>2.0</td>\n",
       "      <td>1.0</td>\n",
       "      <td>1.0</td>\n",
       "      <td>6.443697</td>\n",
       "    </tr>\n",
       "    <tr>\n",
       "      <th>305</th>\n",
       "      <td>1108827</td>\n",
       "      <td>Cc1cc(no1)C(=O)N[C@@H](CC1CCCC1)C(=O)NN(CCC(N)...</td>\n",
       "      <td>410.0</td>\n",
       "      <td>active</td>\n",
       "      <td>445.879</td>\n",
       "      <td>0.93132</td>\n",
       "      <td>3.0</td>\n",
       "      <td>6.0</td>\n",
       "      <td>12.0</td>\n",
       "      <td>9.0</td>\n",
       "      <td>166.0</td>\n",
       "      <td>1.0</td>\n",
       "      <td>1.0</td>\n",
       "      <td>1.0</td>\n",
       "      <td>6.387216</td>\n",
       "    </tr>\n",
       "  </tbody>\n",
       "</table>\n",
       "<p>306 rows × 15 columns</p>\n",
       "</div>"
      ],
      "text/plain": [
       "     Mol_BDB_ID                                             Smiles  Smiles  \\\n",
       "0       1074441  FC(F)(F)Oc1ccc(N([C@@H](C(=O)NC2CCC(F)(F)CC2)c...    30.0   \n",
       "1       1074558  ClCC(=O)N([C@@H](C(=O)N[C@H]1CCOC1)c1cnccn1)c1...    39.0   \n",
       "2       1074516  FC1(F)CCC(CC1)NC(=O)[C@H](N(C(=O)CCl)c1ccc(cc1...    50.0   \n",
       "3       1074541  FC1(F)CCC(CC1)NC(=O)[C@H](N(C(=O)CCl)c1ccc(cc1...    50.0   \n",
       "4       1074478  F[C@@H](Cl)C(=O)N([C@H](C(=O)NC1CCC(F)(F)CC1)c...    60.0   \n",
       "..          ...                                                ...     ...   \n",
       "301     1033981  CC(C)C[C@@H](NC(=O)[C@H](Cc1cccc2ccccc12)NC(=O...   230.0   \n",
       "302      989758  CCOC(=O)\\C=C\\[C@H](C[C@@H]1CCNC1=O)NC(=O)[C@H]...   286.0   \n",
       "303      868855  Cc1ccc(cc1)S(=O)(=O)n1ccc2cc(ccc12)C(=O)Oc1cnc...   310.0   \n",
       "304     1129710  N[C@@H](CC[C@H](N)C(O)=O)C[C@H]1O[C@H]([C@H](O...   360.0   \n",
       "305     1108827  Cc1cc(no1)C(=O)N[C@@H](CC1CCCC1)C(=O)NN(CCC(N)...   410.0   \n",
       "\n",
       "    bioactivity_class       MW     LogP  NumHDonors  NumHAcceptors  \\\n",
       "0              active  531.869  4.25408         1.0            6.0   \n",
       "1              active  441.875  2.34980         1.0            7.0   \n",
       "2              active  505.978  4.60730         1.0            6.0   \n",
       "3              active  505.978  4.60730         1.0            6.0   \n",
       "4              active  523.968  4.90290         1.0            6.0   \n",
       "..                ...      ...      ...         ...            ...   \n",
       "301            active  600.716  3.41810         4.0            6.0   \n",
       "302            active  572.703  2.59860         4.0            7.0   \n",
       "303            active  426.881  4.45432         0.0            6.0   \n",
       "304            active  381.393 -2.06280         6.0           11.0   \n",
       "305            active  445.879  0.93132         3.0            6.0   \n",
       "\n",
       "     NumHeteroatoms  NumRotatableBonds  NumValenceElectrons  NumAromaticRings  \\\n",
       "0              14.0                7.0                192.0               2.0   \n",
       "1              10.0                7.0                160.0               3.0   \n",
       "2              11.0                7.0                178.0               3.0   \n",
       "3              11.0                7.0                178.0               3.0   \n",
       "4              12.0                7.0                184.0               3.0   \n",
       "..              ...                ...                  ...               ...   \n",
       "301            10.0               14.0                232.0               3.0   \n",
       "302            11.0               15.0                226.0               1.0   \n",
       "303             8.0                4.0                146.0               4.0   \n",
       "304            12.0                7.0                148.0               2.0   \n",
       "305            12.0                9.0                166.0               1.0   \n",
       "\n",
       "     NumSaturatedRings  NumAliphaticRings     pIC50  \n",
       "0                  1.0                1.0  7.522879  \n",
       "1                  1.0                1.0  7.408935  \n",
       "2                  1.0                1.0  7.301030  \n",
       "3                  1.0                1.0  7.301030  \n",
       "4                  1.0                1.0  7.221849  \n",
       "..                 ...                ...       ...  \n",
       "301                1.0                1.0  6.638272  \n",
       "302                1.0                1.0  6.543634  \n",
       "303                0.0                0.0  6.508638  \n",
       "304                1.0                1.0  6.443697  \n",
       "305                1.0                1.0  6.387216  \n",
       "\n",
       "[306 rows x 15 columns]"
      ]
     },
     "execution_count": 33,
     "metadata": {},
     "output_type": "execute_result"
    }
   ],
   "source": [
    "molecule_dataset = molecule_dataset.rename(columns={ molecule_dataset.columns[2]: \"Smiles\" })\n",
    "molecule_dataset"
   ]
  },
  {
   "cell_type": "markdown",
   "metadata": {},
   "source": [
    "__Query__: For the query molecule Gefitinib, generate the `ROMol` object from the query molecule's SMILES."
   ]
  },
  {
   "cell_type": "code",
   "execution_count": 35,
   "metadata": {},
   "outputs": [
    {
     "data": {
      "image/png": "[encoded data removed]",
      "text/plain": [
       "<rdkit.Chem.rdchem.Mol at 0x7fdb12b5de70>"
      ]
     },
     "execution_count": 35,
     "metadata": {},
     "output_type": "execute_result"
    }
   ],
   "source": [
    "query = Chem.MolFromSmiles(\"CC(C)(C)c1ccc(cc1)N([C@H](c2cccnc2)C(=O)NC3CCCCC3)C(=O)c4c[nH]cn4\")\n",
    "query"
   ]
  },
  {
   "cell_type": "markdown",
   "metadata": {},
   "source": [
    "Generate MACCS and Morgan fingerprints for the query molecule."
   ]
  },
  {
   "cell_type": "code",
   "execution_count": 36,
   "metadata": {},
   "outputs": [],
   "source": [
    "maccs_fp_query = MACCSkeys.GenMACCSKeys(query)\n",
    "circular_fp_query = rdFingerprintGenerator.GetCountFPs([query])[0]"
   ]
  },
  {
   "cell_type": "markdown",
   "metadata": {},
   "source": [
    "Generate MACCS and Morgan fingerprints for all molecules in our dataset."
   ]
  },
  {
   "cell_type": "code",
   "execution_count": 37,
   "metadata": {},
   "outputs": [
    {
     "ename": "AttributeError",
     "evalue": "'DataFrame' object has no attribute 'map'",
     "output_type": "error",
     "traceback": [
      "\u001b[0;31m---------------------------------------------------------------------------\u001b[0m",
      "\u001b[0;31mAttributeError\u001b[0m                            Traceback (most recent call last)",
      "Cell \u001b[0;32mIn [37], line 1\u001b[0m\n\u001b[0;32m----> 1\u001b[0m \u001b[43mPandasTools\u001b[49m\u001b[38;5;241;43m.\u001b[39;49m\u001b[43mAddMoleculeColumnToFrame\u001b[49m\u001b[43m(\u001b[49m\u001b[43mmolecule_dataset\u001b[49m\u001b[43m,\u001b[49m\u001b[43m \u001b[49m\u001b[38;5;124;43m\"\u001b[39;49m\u001b[38;5;124;43mSmiles\u001b[39;49m\u001b[38;5;124;43m\"\u001b[39;49m\u001b[43m)\u001b[49m\n\u001b[1;32m      2\u001b[0m circular_fp_list \u001b[38;5;241m=\u001b[39m rdFingerprintGenerator\u001b[38;5;241m.\u001b[39mGetCountFPs(molecule_dataset[\u001b[38;5;124m\"\u001b[39m\u001b[38;5;124mROMol\u001b[39m\u001b[38;5;124m\"\u001b[39m]\u001b[38;5;241m.\u001b[39mtolist())\n\u001b[1;32m      3\u001b[0m maccs_fp_list \u001b[38;5;241m=\u001b[39m molecule_dataset[\u001b[38;5;124m\"\u001b[39m\u001b[38;5;124mROMol\u001b[39m\u001b[38;5;124m\"\u001b[39m]\u001b[38;5;241m.\u001b[39mapply(MACCSkeys\u001b[38;5;241m.\u001b[39mGenMACCSKeys)\u001b[38;5;241m.\u001b[39mtolist()\n",
      "File \u001b[0;32m~/.local/lib/python3.10/site-packages/rdkit/Chem/PandasTools.py:379\u001b[0m, in \u001b[0;36mAddMoleculeColumnToFrame\u001b[0;34m(frame, smilesCol, molCol, includeFingerprints)\u001b[0m\n\u001b[1;32m    373\u001b[0m \u001b[38;5;124;03m'''Converts the molecules contains in \"smilesCol\" to RDKit molecules and appends them to the\u001b[39;00m\n\u001b[1;32m    374\u001b[0m \u001b[38;5;124;03m  dataframe \"frame\" using the specified column name.\u001b[39;00m\n\u001b[1;32m    375\u001b[0m \u001b[38;5;124;03m  If desired, a fingerprint can be computed and stored with the molecule objects to accelerate\u001b[39;00m\n\u001b[1;32m    376\u001b[0m \u001b[38;5;124;03m  substructure matching\u001b[39;00m\n\u001b[1;32m    377\u001b[0m \u001b[38;5;124;03m  '''\u001b[39;00m\n\u001b[1;32m    378\u001b[0m \u001b[38;5;28;01mif\u001b[39;00m \u001b[38;5;129;01mnot\u001b[39;00m includeFingerprints:\n\u001b[0;32m--> 379\u001b[0m   frame[molCol] \u001b[38;5;241m=\u001b[39m \u001b[43mframe\u001b[49m\u001b[43m[\u001b[49m\u001b[43msmilesCol\u001b[49m\u001b[43m]\u001b[49m\u001b[38;5;241;43m.\u001b[39;49m\u001b[43mmap\u001b[49m(Chem\u001b[38;5;241m.\u001b[39mMolFromSmiles)\n\u001b[1;32m    380\u001b[0m \u001b[38;5;28;01melse\u001b[39;00m:\n\u001b[1;32m    381\u001b[0m   frame[molCol] \u001b[38;5;241m=\u001b[39m frame[smilesCol]\u001b[38;5;241m.\u001b[39mmap(\n\u001b[1;32m    382\u001b[0m     \u001b[38;5;28;01mlambda\u001b[39;00m smiles: _MolPlusFingerprint(Chem\u001b[38;5;241m.\u001b[39mMolFromSmiles(smiles)))\n",
      "File \u001b[0;32m~/.local/lib/python3.10/site-packages/pandas/core/generic.py:5902\u001b[0m, in \u001b[0;36mNDFrame.__getattr__\u001b[0;34m(self, name)\u001b[0m\n\u001b[1;32m   5895\u001b[0m \u001b[38;5;28;01mif\u001b[39;00m (\n\u001b[1;32m   5896\u001b[0m     name \u001b[38;5;129;01mnot\u001b[39;00m \u001b[38;5;129;01min\u001b[39;00m \u001b[38;5;28mself\u001b[39m\u001b[38;5;241m.\u001b[39m_internal_names_set\n\u001b[1;32m   5897\u001b[0m     \u001b[38;5;129;01mand\u001b[39;00m name \u001b[38;5;129;01mnot\u001b[39;00m \u001b[38;5;129;01min\u001b[39;00m \u001b[38;5;28mself\u001b[39m\u001b[38;5;241m.\u001b[39m_metadata\n\u001b[1;32m   5898\u001b[0m     \u001b[38;5;129;01mand\u001b[39;00m name \u001b[38;5;129;01mnot\u001b[39;00m \u001b[38;5;129;01min\u001b[39;00m \u001b[38;5;28mself\u001b[39m\u001b[38;5;241m.\u001b[39m_accessors\n\u001b[1;32m   5899\u001b[0m     \u001b[38;5;129;01mand\u001b[39;00m \u001b[38;5;28mself\u001b[39m\u001b[38;5;241m.\u001b[39m_info_axis\u001b[38;5;241m.\u001b[39m_can_hold_identifiers_and_holds_name(name)\n\u001b[1;32m   5900\u001b[0m ):\n\u001b[1;32m   5901\u001b[0m     \u001b[38;5;28;01mreturn\u001b[39;00m \u001b[38;5;28mself\u001b[39m[name]\n\u001b[0;32m-> 5902\u001b[0m \u001b[38;5;28;01mreturn\u001b[39;00m \u001b[38;5;28;43mobject\u001b[39;49m\u001b[38;5;241;43m.\u001b[39;49m\u001b[38;5;21;43m__getattribute__\u001b[39;49m\u001b[43m(\u001b[49m\u001b[38;5;28;43mself\u001b[39;49m\u001b[43m,\u001b[49m\u001b[43m \u001b[49m\u001b[43mname\u001b[49m\u001b[43m)\u001b[49m\n",
      "\u001b[0;31mAttributeError\u001b[0m: 'DataFrame' object has no attribute 'map'"
     ]
    }
   ],
   "source": [
    "PandasTools.AddMoleculeColumnToFrame(molecule_dataset, \"Smiles\")\n",
    "circular_fp_list = rdFingerprintGenerator.GetCountFPs(molecule_dataset[\"ROMol\"].tolist())\n",
    "maccs_fp_list = molecule_dataset[\"ROMol\"].apply(MACCSkeys.GenMACCSKeys).tolist()"
   ]
  },
  {
   "cell_type": "markdown",
   "metadata": {},
   "source": [
    "Calculate the Tanimoto similarity between the query molecule (Gefitinib) and all molecules our dataset (using MACCS and Morgan fingerprints)."
   ]
  },
  {
   "cell_type": "code",
   "execution_count": null,
   "metadata": {},
   "outputs": [],
   "source": [
    "molecule_dataset[\"tanimoto_maccs\"] = DataStructs.BulkTanimotoSimilarity(\n",
    "    maccs_fp_query, maccs_fp_list\n",
    ")\n",
    "molecule_dataset[\"tanimoto_morgan\"] = DataStructs.BulkTanimotoSimilarity(\n",
    "    circular_fp_query, circular_fp_list\n",
    ")"
   ]
  },
  {
   "cell_type": "markdown",
   "metadata": {},
   "source": [
    "Calculate Dice similarity for query molecule (Gefitinib) and all molecules in file (MACCS, Morgan)."
   ]
  },
  {
   "cell_type": "code",
   "execution_count": 21,
   "metadata": {},
   "outputs": [],
   "source": [
    "molecule_dataset[\"dice_maccs\"] = DataStructs.BulkDiceSimilarity(maccs_fp_query, maccs_fp_list)\n",
    "molecule_dataset[\"dice_morgan\"] = DataStructs.BulkDiceSimilarity(\n",
    "    circular_fp_query, circular_fp_list\n",
    ")"
   ]
  },
  {
   "cell_type": "code",
   "execution_count": 22,
   "metadata": {},
   "outputs": [
    {
     "data": {
      "text/html": [
       "<div>\n",
       "<style scoped>\n",
       "    .dataframe tbody tr th:only-of-type {\n",
       "        vertical-align: middle;\n",
       "    }\n",
       "\n",
       "    .dataframe tbody tr th {\n",
       "        vertical-align: top;\n",
       "    }\n",
       "\n",
       "    .dataframe thead th {\n",
       "        text-align: right;\n",
       "    }\n",
       "</style>\n",
       "<table border=\"1\" class=\"dataframe\">\n",
       "  <thead>\n",
       "    <tr style=\"text-align: right;\">\n",
       "      <th></th>\n",
       "      <th>Smiles</th>\n",
       "      <th>tanimoto_maccs</th>\n",
       "      <th>tanimoto_morgan</th>\n",
       "      <th>dice_maccs</th>\n",
       "      <th>dice_morgan</th>\n",
       "    </tr>\n",
       "  </thead>\n",
       "  <tbody>\n",
       "    <tr>\n",
       "      <th>0</th>\n",
       "      <td>c1(cn(c(=O)cc1)CC(=O)O)C(=O)NCc1ccc(F)cc1\\t</td>\n",
       "      <td>0.549296</td>\n",
       "      <td>0.152672</td>\n",
       "      <td>0.709091</td>\n",
       "      <td>0.264901</td>\n",
       "    </tr>\n",
       "    <tr>\n",
       "      <th>1</th>\n",
       "      <td>c1(cn(c(=O)cc1)CC(=O)O)C(=O)NC1CCCC1\\t</td>\n",
       "      <td>0.506849</td>\n",
       "      <td>0.117188</td>\n",
       "      <td>0.672727</td>\n",
       "      <td>0.209790</td>\n",
       "    </tr>\n",
       "    <tr>\n",
       "      <th>2</th>\n",
       "      <td>c1(nc(c(s1)C)C)NC(=O)c1cn(c(=O)cc1)CC(=O)O\\t</td>\n",
       "      <td>0.487179</td>\n",
       "      <td>0.122137</td>\n",
       "      <td>0.655172</td>\n",
       "      <td>0.217687</td>\n",
       "    </tr>\n",
       "    <tr>\n",
       "      <th>3</th>\n",
       "      <td>c1(cn(c(=O)cc1)CC(=O)NCc1ccccc1)C(=O)O\\t</td>\n",
       "      <td>0.500000</td>\n",
       "      <td>0.128788</td>\n",
       "      <td>0.666667</td>\n",
       "      <td>0.228188</td>\n",
       "    </tr>\n",
       "    <tr>\n",
       "      <th>4</th>\n",
       "      <td>c1(cn(c(=O)cc1)CC(=O)N1CCCC1)C(=O)O\\t</td>\n",
       "      <td>0.535211</td>\n",
       "      <td>0.129032</td>\n",
       "      <td>0.697248</td>\n",
       "      <td>0.228571</td>\n",
       "    </tr>\n",
       "  </tbody>\n",
       "</table>\n",
       "</div>"
      ],
      "text/plain": [
       "                                         Smiles  tanimoto_maccs  \\\n",
       "0   c1(cn(c(=O)cc1)CC(=O)O)C(=O)NCc1ccc(F)cc1\\t        0.549296   \n",
       "1        c1(cn(c(=O)cc1)CC(=O)O)C(=O)NC1CCCC1\\t        0.506849   \n",
       "2  c1(nc(c(s1)C)C)NC(=O)c1cn(c(=O)cc1)CC(=O)O\\t        0.487179   \n",
       "3      c1(cn(c(=O)cc1)CC(=O)NCc1ccccc1)C(=O)O\\t        0.500000   \n",
       "4         c1(cn(c(=O)cc1)CC(=O)N1CCCC1)C(=O)O\\t        0.535211   \n",
       "\n",
       "   tanimoto_morgan  dice_maccs  dice_morgan  \n",
       "0         0.152672    0.709091     0.264901  \n",
       "1         0.117188    0.672727     0.209790  \n",
       "2         0.122137    0.655172     0.217687  \n",
       "3         0.128788    0.666667     0.228188  \n",
       "4         0.129032    0.697248     0.228571  "
      ]
     },
     "execution_count": 22,
     "metadata": {},
     "output_type": "execute_result"
    }
   ],
   "source": [
    "# NBVAL_CHECK_OUTPUT\n",
    "molecule_dataset[\n",
    "    [\"Smiles\", \"tanimoto_maccs\", \"tanimoto_morgan\", \"dice_maccs\", \"dice_morgan\"]\n",
    "].head(5)"
   ]
  },
  {
   "cell_type": "code",
   "execution_count": 23,
   "metadata": {},
   "outputs": [
    {
     "data": {
      "text/html": [
       "<div>\n",
       "<style scoped>\n",
       "    .dataframe tbody tr th:only-of-type {\n",
       "        vertical-align: middle;\n",
       "    }\n",
       "\n",
       "    .dataframe tbody tr th {\n",
       "        vertical-align: top;\n",
       "    }\n",
       "\n",
       "    .dataframe thead th {\n",
       "        text-align: right;\n",
       "    }\n",
       "</style>\n",
       "<table border=\"1\" class=\"dataframe\">\n",
       "  <thead>\n",
       "    <tr style=\"text-align: right;\">\n",
       "      <th></th>\n",
       "      <th>Unnamed: 0</th>\n",
       "      <th>name</th>\n",
       "      <th>Smiles</th>\n",
       "      <th>ROMol</th>\n",
       "      <th>tanimoto_maccs</th>\n",
       "      <th>tanimoto_morgan</th>\n",
       "      <th>dice_maccs</th>\n",
       "      <th>dice_morgan</th>\n",
       "    </tr>\n",
       "  </thead>\n",
       "  <tbody>\n",
       "    <tr>\n",
       "      <th>0</th>\n",
       "      <td>0</td>\n",
       "      <td>Asenix_1</td>\n",
       "      <td>c1(cn(c(=O)cc1)CC(=O)O)C(=O)NCc1ccc(F)cc1\\t</td>\n",
       "      <td>&lt;rdkit.Chem.rdchem.Mol object at 0x7fdb15ef5310&gt;</td>\n",
       "      <td>0.549296</td>\n",
       "      <td>0.152672</td>\n",
       "      <td>0.709091</td>\n",
       "      <td>0.264901</td>\n",
       "    </tr>\n",
       "    <tr>\n",
       "      <th>1</th>\n",
       "      <td>1</td>\n",
       "      <td>Asenix_2</td>\n",
       "      <td>c1(cn(c(=O)cc1)CC(=O)O)C(=O)NC1CCCC1\\t</td>\n",
       "      <td>&lt;rdkit.Chem.rdchem.Mol object at 0x7fdb15ef5620&gt;</td>\n",
       "      <td>0.506849</td>\n",
       "      <td>0.117188</td>\n",
       "      <td>0.672727</td>\n",
       "      <td>0.209790</td>\n",
       "    </tr>\n",
       "    <tr>\n",
       "      <th>2</th>\n",
       "      <td>2</td>\n",
       "      <td>Asenix_3</td>\n",
       "      <td>c1(nc(c(s1)C)C)NC(=O)c1cn(c(=O)cc1)CC(=O)O\\t</td>\n",
       "      <td>&lt;rdkit.Chem.rdchem.Mol object at 0x7fdb15ef5700&gt;</td>\n",
       "      <td>0.487179</td>\n",
       "      <td>0.122137</td>\n",
       "      <td>0.655172</td>\n",
       "      <td>0.217687</td>\n",
       "    </tr>\n",
       "  </tbody>\n",
       "</table>\n",
       "</div>"
      ],
      "text/plain": [
       "   Unnamed: 0      name                                        Smiles  \\\n",
       "0           0  Asenix_1   c1(cn(c(=O)cc1)CC(=O)O)C(=O)NCc1ccc(F)cc1\\t   \n",
       "1           1  Asenix_2        c1(cn(c(=O)cc1)CC(=O)O)C(=O)NC1CCCC1\\t   \n",
       "2           2  Asenix_3  c1(nc(c(s1)C)C)NC(=O)c1cn(c(=O)cc1)CC(=O)O\\t   \n",
       "\n",
       "                                              ROMol  tanimoto_maccs  \\\n",
       "0  <rdkit.Chem.rdchem.Mol object at 0x7fdb15ef5310>        0.549296   \n",
       "1  <rdkit.Chem.rdchem.Mol object at 0x7fdb15ef5620>        0.506849   \n",
       "2  <rdkit.Chem.rdchem.Mol object at 0x7fdb15ef5700>        0.487179   \n",
       "\n",
       "   tanimoto_morgan  dice_maccs  dice_morgan  \n",
       "0         0.152672    0.709091     0.264901  \n",
       "1         0.117188    0.672727     0.209790  \n",
       "2         0.122137    0.655172     0.217687  "
      ]
     },
     "execution_count": 23,
     "metadata": {},
     "output_type": "execute_result"
    }
   ],
   "source": [
    "# Show all columns\n",
    "molecule_dataset.head(3)"
   ]
  },
  {
   "cell_type": "markdown",
   "metadata": {},
   "source": [
    "#### Distribution of similarity values\n",
    "\n",
    "As mentioned in the theory section, compared for the same fingerprint (e.g. MACCS fingerprints), Tanimoto similarity values are lower than Dice similarity values.\n",
    "Also, comparing two different fingerprints (e.g. MACCS and Morgan fingerprints), the similarity measure values (e.g. Tanimotot similarity) vary. \n",
    "\n",
    "We can have a look at the distributions by plotting histograms."
   ]
  },
  {
   "cell_type": "markdown",
   "metadata": {},
   "source": [
    "First, we can plot distribution of Tanimoto similarity of MACCS fingerprints."
   ]
  },
  {
   "cell_type": "code",
   "execution_count": 24,
   "metadata": {},
   "outputs": [
    {
     "data": {
      "image/png": "[encoded data removed]",
      "text/plain": [
       "<Figure size 1000x600 with 4 Axes>"
      ]
     },
     "metadata": {},
     "output_type": "display_data"
    }
   ],
   "source": [
    "fig, axes = plt.subplots(figsize=(10, 6), nrows=2, ncols=2)\n",
    "molecule_dataset.hist([\"tanimoto_maccs\"], ax=axes[0, 0])\n",
    "molecule_dataset.hist([\"tanimoto_morgan\"], ax=axes[0, 1])\n",
    "molecule_dataset.hist([\"dice_maccs\"], ax=axes[1, 0])\n",
    "molecule_dataset.hist([\"dice_morgan\"], ax=axes[1, 1])\n",
    "axes[1, 0].set_xlabel(\"similarity value\")\n",
    "axes[1, 0].set_ylabel(\"# molecules\")\n",
    "fig;"
   ]
  },
  {
   "cell_type": "markdown",
   "metadata": {},
   "source": [
    "Second, we can compare similarities here. This time, let's directly compare Tanimoto and Dice similarities for the two fingerprints."
   ]
  },
  {
   "cell_type": "code",
   "execution_count": 25,
   "metadata": {},
   "outputs": [
    {
     "data": {
      "image/png": "[encoded data removed]",
      "text/plain": [
       "<Figure size 1200x600 with 2 Axes>"
      ]
     },
     "metadata": {},
     "output_type": "display_data"
    }
   ],
   "source": [
    "fig, axes = plt.subplots(figsize=(12, 6), nrows=1, ncols=2)\n",
    "\n",
    "molecule_dataset.plot(\"tanimoto_maccs\", \"dice_maccs\", kind=\"scatter\", ax=axes[0])\n",
    "axes[0].plot([0, 1], [0, 1], \"k--\")\n",
    "axes[0].set_xlabel(\"Tanimoto (MACCS)\")\n",
    "axes[0].set_ylabel(\"Dice (MACCS)\")\n",
    "\n",
    "molecule_dataset.plot(\"tanimoto_morgan\", \"dice_morgan\", kind=\"scatter\", ax=axes[1])\n",
    "axes[1].plot([0, 1], [0, 1], \"k--\")\n",
    "axes[1].set_xlabel(\"Tanimoto (Morgan)\")\n",
    "axes[1].set_ylabel(\"Dice (Morgan)\")\n",
    "\n",
    "fig;"
   ]
  },
  {
   "cell_type": "markdown",
   "metadata": {},
   "source": [
    "Similarity distributions are important to interpret similarity values, e.g. a value of 0.6 needs to be evaluated differently for MACCS or Morgan fingerprints, as well as Tanimoto or Dice similarities."
   ]
  },
  {
   "cell_type": "markdown",
   "metadata": {},
   "source": [
    "#### Visualize most similar molecules"
   ]
  },
  {
   "cell_type": "markdown",
   "metadata": {},
   "source": [
    "We visually inspect the structure of Gefitinib in comparison to the most similar molecules in our ranking, including the information about their bioactivity (pIC50 derived from the ChEMBL database in **Talktorial T001**)."
   ]
  },
  {
   "cell_type": "markdown",
   "metadata": {},
   "source": [
    "Here, we sort the `DataFrame` by the Tanimoto similarity based on Morgan fingerprints."
   ]
  },
  {
   "cell_type": "code",
   "execution_count": 26,
   "metadata": {},
   "outputs": [
    {
     "data": {
      "text/html": [
       "<div>\n",
       "<style scoped>\n",
       "    .dataframe tbody tr th:only-of-type {\n",
       "        vertical-align: middle;\n",
       "    }\n",
       "\n",
       "    .dataframe tbody tr th {\n",
       "        vertical-align: top;\n",
       "    }\n",
       "\n",
       "    .dataframe thead th {\n",
       "        text-align: right;\n",
       "    }\n",
       "</style>\n",
       "<table border=\"1\" class=\"dataframe\">\n",
       "  <thead>\n",
       "    <tr style=\"text-align: right;\">\n",
       "      <th></th>\n",
       "      <th>Unnamed: 0</th>\n",
       "      <th>name</th>\n",
       "      <th>Smiles</th>\n",
       "      <th>ROMol</th>\n",
       "      <th>tanimoto_maccs</th>\n",
       "      <th>tanimoto_morgan</th>\n",
       "      <th>dice_maccs</th>\n",
       "      <th>dice_morgan</th>\n",
       "    </tr>\n",
       "  </thead>\n",
       "  <tbody>\n",
       "    <tr>\n",
       "      <th>6326</th>\n",
       "      <td>6326</td>\n",
       "      <td>Asenix_6327</td>\n",
       "      <td>c1(cc(C(=O)NS(=O)(=O)c2ccc(cc2)Cl)ccc1OC)CN1CC...</td>\n",
       "      <td>&lt;rdkit.Chem.rdchem.Mol object at 0x7fdb16ac7e60&gt;</td>\n",
       "      <td>0.568182</td>\n",
       "      <td>0.341270</td>\n",
       "      <td>0.724638</td>\n",
       "      <td>0.508876</td>\n",
       "    </tr>\n",
       "    <tr>\n",
       "      <th>6751</th>\n",
       "      <td>6751</td>\n",
       "      <td>Asenix_6752</td>\n",
       "      <td>N1(c2cc(ncn2)C)CC(CC1)(O)CNCc1ccc(cc1)OCCN1CCO...</td>\n",
       "      <td>&lt;rdkit.Chem.rdchem.Mol object at 0x7fdb16ad3a00&gt;</td>\n",
       "      <td>0.680556</td>\n",
       "      <td>0.340741</td>\n",
       "      <td>0.809917</td>\n",
       "      <td>0.508287</td>\n",
       "    </tr>\n",
       "    <tr>\n",
       "      <th>6357</th>\n",
       "      <td>6357</td>\n",
       "      <td>Asenix_6358</td>\n",
       "      <td>c1(cc(C(=O)NS(=O)(=O)c2c(c(Cl)ccc2)C)ccc1OC)CN...</td>\n",
       "      <td>&lt;rdkit.Chem.rdchem.Mol object at 0x7fdb16ac8c80&gt;</td>\n",
       "      <td>0.561798</td>\n",
       "      <td>0.335938</td>\n",
       "      <td>0.719424</td>\n",
       "      <td>0.502924</td>\n",
       "    </tr>\n",
       "  </tbody>\n",
       "</table>\n",
       "</div>"
      ],
      "text/plain": [
       "      Unnamed: 0         name  \\\n",
       "6326        6326  Asenix_6327   \n",
       "6751        6751  Asenix_6752   \n",
       "6357        6357  Asenix_6358   \n",
       "\n",
       "                                                 Smiles  \\\n",
       "6326  c1(cc(C(=O)NS(=O)(=O)c2ccc(cc2)Cl)ccc1OC)CN1CC...   \n",
       "6751  N1(c2cc(ncn2)C)CC(CC1)(O)CNCc1ccc(cc1)OCCN1CCO...   \n",
       "6357  c1(cc(C(=O)NS(=O)(=O)c2c(c(Cl)ccc2)C)ccc1OC)CN...   \n",
       "\n",
       "                                                 ROMol  tanimoto_maccs  \\\n",
       "6326  <rdkit.Chem.rdchem.Mol object at 0x7fdb16ac7e60>        0.568182   \n",
       "6751  <rdkit.Chem.rdchem.Mol object at 0x7fdb16ad3a00>        0.680556   \n",
       "6357  <rdkit.Chem.rdchem.Mol object at 0x7fdb16ac8c80>        0.561798   \n",
       "\n",
       "      tanimoto_morgan  dice_maccs  dice_morgan  \n",
       "6326         0.341270    0.724638     0.508876  \n",
       "6751         0.340741    0.809917     0.508287  \n",
       "6357         0.335938    0.719424     0.502924  "
      ]
     },
     "execution_count": 26,
     "metadata": {},
     "output_type": "execute_result"
    }
   ],
   "source": [
    "molecule_dataset.sort_values([\"tanimoto_morgan\"], ascending=False).head(3)"
   ]
  },
  {
   "cell_type": "markdown",
   "metadata": {},
   "source": [
    "Show the query and its most similar molecules alongside the molecules' bioactivities."
   ]
  },
  {
   "cell_type": "code",
   "execution_count": 28,
   "metadata": {
    "scrolled": true
   },
   "outputs": [
    {
     "ename": "KeyError",
     "evalue": "'pIC50'",
     "output_type": "error",
     "traceback": [
      "\u001b[0;31m---------------------------------------------------------------------------\u001b[0m",
      "\u001b[0;31mKeyError\u001b[0m                                  Traceback (most recent call last)",
      "File \u001b[0;32m~/.local/lib/python3.10/site-packages/pandas/core/indexes/base.py:3803\u001b[0m, in \u001b[0;36mIndex.get_loc\u001b[0;34m(self, key, method, tolerance)\u001b[0m\n\u001b[1;32m   3802\u001b[0m \u001b[38;5;28;01mtry\u001b[39;00m:\n\u001b[0;32m-> 3803\u001b[0m     \u001b[38;5;28;01mreturn\u001b[39;00m \u001b[38;5;28;43mself\u001b[39;49m\u001b[38;5;241;43m.\u001b[39;49m\u001b[43m_engine\u001b[49m\u001b[38;5;241;43m.\u001b[39;49m\u001b[43mget_loc\u001b[49m\u001b[43m(\u001b[49m\u001b[43mcasted_key\u001b[49m\u001b[43m)\u001b[49m\n\u001b[1;32m   3804\u001b[0m \u001b[38;5;28;01mexcept\u001b[39;00m \u001b[38;5;167;01mKeyError\u001b[39;00m \u001b[38;5;28;01mas\u001b[39;00m err:\n",
      "File \u001b[0;32m~/.local/lib/python3.10/site-packages/pandas/_libs/index.pyx:138\u001b[0m, in \u001b[0;36mpandas._libs.index.IndexEngine.get_loc\u001b[0;34m()\u001b[0m\n",
      "File \u001b[0;32m~/.local/lib/python3.10/site-packages/pandas/_libs/index.pyx:165\u001b[0m, in \u001b[0;36mpandas._libs.index.IndexEngine.get_loc\u001b[0;34m()\u001b[0m\n",
      "File \u001b[0;32mpandas/_libs/hashtable_class_helper.pxi:5745\u001b[0m, in \u001b[0;36mpandas._libs.hashtable.PyObjectHashTable.get_item\u001b[0;34m()\u001b[0m\n",
      "File \u001b[0;32mpandas/_libs/hashtable_class_helper.pxi:5753\u001b[0m, in \u001b[0;36mpandas._libs.hashtable.PyObjectHashTable.get_item\u001b[0;34m()\u001b[0m\n",
      "\u001b[0;31mKeyError\u001b[0m: 'pIC50'",
      "\nThe above exception was the direct cause of the following exception:\n",
      "\u001b[0;31mKeyError\u001b[0m                                  Traceback (most recent call last)",
      "Cell \u001b[0;32mIn [28], line 4\u001b[0m\n\u001b[1;32m      2\u001b[0m top_molecules \u001b[38;5;241m=\u001b[39m molecule_dataset\u001b[38;5;241m.\u001b[39msort_values([\u001b[38;5;124m\"\u001b[39m\u001b[38;5;124mtanimoto_morgan\u001b[39m\u001b[38;5;124m\"\u001b[39m], ascending\u001b[38;5;241m=\u001b[39m\u001b[38;5;28;01mFalse\u001b[39;00m)\u001b[38;5;241m.\u001b[39mreset_index()\n\u001b[1;32m      3\u001b[0m top_molecules \u001b[38;5;241m=\u001b[39m top_molecules[:top_n_molecules]\n\u001b[0;32m----> 4\u001b[0m legends \u001b[38;5;241m=\u001b[39m [\n\u001b[1;32m      5\u001b[0m     \u001b[38;5;124mf\u001b[39m\u001b[38;5;124m\"\u001b[39m\u001b[38;5;124m#\u001b[39m\u001b[38;5;132;01m{\u001b[39;00mindex\u001b[38;5;241m+\u001b[39m\u001b[38;5;241m1\u001b[39m\u001b[38;5;132;01m}\u001b[39;00m\u001b[38;5;124m \u001b[39m\u001b[38;5;132;01m{\u001b[39;00mmolecule[\u001b[38;5;124m'\u001b[39m\u001b[38;5;124mname\u001b[39m\u001b[38;5;124m'\u001b[39m]\u001b[38;5;132;01m}\u001b[39;00m\u001b[38;5;124m, pIC50=\u001b[39m\u001b[38;5;132;01m{\u001b[39;00mmolecule[\u001b[38;5;124m'\u001b[39m\u001b[38;5;124mpIC50\u001b[39m\u001b[38;5;124m'\u001b[39m]\u001b[38;5;132;01m:\u001b[39;00m\u001b[38;5;124m.2f\u001b[39m\u001b[38;5;132;01m}\u001b[39;00m\u001b[38;5;124m\"\u001b[39m\n\u001b[1;32m      6\u001b[0m     \u001b[38;5;28;01mfor\u001b[39;00m index, molecule \u001b[38;5;129;01min\u001b[39;00m top_molecules\u001b[38;5;241m.\u001b[39miterrows()\n\u001b[1;32m      7\u001b[0m ]\n\u001b[1;32m      8\u001b[0m Chem\u001b[38;5;241m.\u001b[39mDraw\u001b[38;5;241m.\u001b[39mMolsToGridImage(\n\u001b[1;32m      9\u001b[0m     mols\u001b[38;5;241m=\u001b[39m[query] \u001b[38;5;241m+\u001b[39m top_molecules[\u001b[38;5;124m\"\u001b[39m\u001b[38;5;124mROMol\u001b[39m\u001b[38;5;124m\"\u001b[39m]\u001b[38;5;241m.\u001b[39mtolist(),\n\u001b[1;32m     10\u001b[0m     legends\u001b[38;5;241m=\u001b[39m([\u001b[38;5;124m\"\u001b[39m\u001b[38;5;124mGefitinib\u001b[39m\u001b[38;5;124m\"\u001b[39m] \u001b[38;5;241m+\u001b[39m legends),\n\u001b[1;32m     11\u001b[0m     molsPerRow\u001b[38;5;241m=\u001b[39m\u001b[38;5;241m3\u001b[39m,\n\u001b[1;32m     12\u001b[0m     subImgSize\u001b[38;5;241m=\u001b[39m(\u001b[38;5;241m450\u001b[39m, \u001b[38;5;241m150\u001b[39m),\n\u001b[1;32m     13\u001b[0m )\n",
      "Cell \u001b[0;32mIn [28], line 5\u001b[0m, in \u001b[0;36m<listcomp>\u001b[0;34m(.0)\u001b[0m\n\u001b[1;32m      2\u001b[0m top_molecules \u001b[38;5;241m=\u001b[39m molecule_dataset\u001b[38;5;241m.\u001b[39msort_values([\u001b[38;5;124m\"\u001b[39m\u001b[38;5;124mtanimoto_morgan\u001b[39m\u001b[38;5;124m\"\u001b[39m], ascending\u001b[38;5;241m=\u001b[39m\u001b[38;5;28;01mFalse\u001b[39;00m)\u001b[38;5;241m.\u001b[39mreset_index()\n\u001b[1;32m      3\u001b[0m top_molecules \u001b[38;5;241m=\u001b[39m top_molecules[:top_n_molecules]\n\u001b[1;32m      4\u001b[0m legends \u001b[38;5;241m=\u001b[39m [\n\u001b[0;32m----> 5\u001b[0m     \u001b[38;5;124mf\u001b[39m\u001b[38;5;124m\"\u001b[39m\u001b[38;5;124m#\u001b[39m\u001b[38;5;132;01m{\u001b[39;00mindex\u001b[38;5;241m+\u001b[39m\u001b[38;5;241m1\u001b[39m\u001b[38;5;132;01m}\u001b[39;00m\u001b[38;5;124m \u001b[39m\u001b[38;5;132;01m{\u001b[39;00mmolecule[\u001b[38;5;124m'\u001b[39m\u001b[38;5;124mname\u001b[39m\u001b[38;5;124m'\u001b[39m]\u001b[38;5;132;01m}\u001b[39;00m\u001b[38;5;124m, pIC50=\u001b[39m\u001b[38;5;132;01m{\u001b[39;00mmolecule[\u001b[38;5;124m'\u001b[39m\u001b[38;5;124mpIC50\u001b[39m\u001b[38;5;124m'\u001b[39m]\u001b[38;5;132;01m:\u001b[39;00m\u001b[38;5;124m.2f\u001b[39m\u001b[38;5;132;01m}\u001b[39;00m\u001b[38;5;124m\"\u001b[39m\n\u001b[1;32m      6\u001b[0m     \u001b[38;5;28;01mfor\u001b[39;00m index, molecule \u001b[38;5;129;01min\u001b[39;00m top_molecules\u001b[38;5;241m.\u001b[39miterrows()\n\u001b[1;32m      7\u001b[0m ]\n\u001b[1;32m      8\u001b[0m Chem\u001b[38;5;241m.\u001b[39mDraw\u001b[38;5;241m.\u001b[39mMolsToGridImage(\n\u001b[1;32m      9\u001b[0m     mols\u001b[38;5;241m=\u001b[39m[query] \u001b[38;5;241m+\u001b[39m top_molecules[\u001b[38;5;124m\"\u001b[39m\u001b[38;5;124mROMol\u001b[39m\u001b[38;5;124m\"\u001b[39m]\u001b[38;5;241m.\u001b[39mtolist(),\n\u001b[1;32m     10\u001b[0m     legends\u001b[38;5;241m=\u001b[39m([\u001b[38;5;124m\"\u001b[39m\u001b[38;5;124mGefitinib\u001b[39m\u001b[38;5;124m\"\u001b[39m] \u001b[38;5;241m+\u001b[39m legends),\n\u001b[1;32m     11\u001b[0m     molsPerRow\u001b[38;5;241m=\u001b[39m\u001b[38;5;241m3\u001b[39m,\n\u001b[1;32m     12\u001b[0m     subImgSize\u001b[38;5;241m=\u001b[39m(\u001b[38;5;241m450\u001b[39m, \u001b[38;5;241m150\u001b[39m),\n\u001b[1;32m     13\u001b[0m )\n",
      "File \u001b[0;32m~/.local/lib/python3.10/site-packages/pandas/core/series.py:981\u001b[0m, in \u001b[0;36mSeries.__getitem__\u001b[0;34m(self, key)\u001b[0m\n\u001b[1;32m    978\u001b[0m     \u001b[38;5;28;01mreturn\u001b[39;00m \u001b[38;5;28mself\u001b[39m\u001b[38;5;241m.\u001b[39m_values[key]\n\u001b[1;32m    980\u001b[0m \u001b[38;5;28;01melif\u001b[39;00m key_is_scalar:\n\u001b[0;32m--> 981\u001b[0m     \u001b[38;5;28;01mreturn\u001b[39;00m \u001b[38;5;28;43mself\u001b[39;49m\u001b[38;5;241;43m.\u001b[39;49m\u001b[43m_get_value\u001b[49m\u001b[43m(\u001b[49m\u001b[43mkey\u001b[49m\u001b[43m)\u001b[49m\n\u001b[1;32m    983\u001b[0m \u001b[38;5;28;01mif\u001b[39;00m is_hashable(key):\n\u001b[1;32m    984\u001b[0m     \u001b[38;5;66;03m# Otherwise index.get_value will raise InvalidIndexError\u001b[39;00m\n\u001b[1;32m    985\u001b[0m     \u001b[38;5;28;01mtry\u001b[39;00m:\n\u001b[1;32m    986\u001b[0m         \u001b[38;5;66;03m# For labels that don't resolve as scalars like tuples and frozensets\u001b[39;00m\n",
      "File \u001b[0;32m~/.local/lib/python3.10/site-packages/pandas/core/series.py:1089\u001b[0m, in \u001b[0;36mSeries._get_value\u001b[0;34m(self, label, takeable)\u001b[0m\n\u001b[1;32m   1086\u001b[0m     \u001b[38;5;28;01mreturn\u001b[39;00m \u001b[38;5;28mself\u001b[39m\u001b[38;5;241m.\u001b[39m_values[label]\n\u001b[1;32m   1088\u001b[0m \u001b[38;5;66;03m# Similar to Index.get_value, but we do not fall back to positional\u001b[39;00m\n\u001b[0;32m-> 1089\u001b[0m loc \u001b[38;5;241m=\u001b[39m \u001b[38;5;28;43mself\u001b[39;49m\u001b[38;5;241;43m.\u001b[39;49m\u001b[43mindex\u001b[49m\u001b[38;5;241;43m.\u001b[39;49m\u001b[43mget_loc\u001b[49m\u001b[43m(\u001b[49m\u001b[43mlabel\u001b[49m\u001b[43m)\u001b[49m\n\u001b[1;32m   1090\u001b[0m \u001b[38;5;28;01mreturn\u001b[39;00m \u001b[38;5;28mself\u001b[39m\u001b[38;5;241m.\u001b[39mindex\u001b[38;5;241m.\u001b[39m_get_values_for_loc(\u001b[38;5;28mself\u001b[39m, loc, label)\n",
      "File \u001b[0;32m~/.local/lib/python3.10/site-packages/pandas/core/indexes/base.py:3805\u001b[0m, in \u001b[0;36mIndex.get_loc\u001b[0;34m(self, key, method, tolerance)\u001b[0m\n\u001b[1;32m   3803\u001b[0m     \u001b[38;5;28;01mreturn\u001b[39;00m \u001b[38;5;28mself\u001b[39m\u001b[38;5;241m.\u001b[39m_engine\u001b[38;5;241m.\u001b[39mget_loc(casted_key)\n\u001b[1;32m   3804\u001b[0m \u001b[38;5;28;01mexcept\u001b[39;00m \u001b[38;5;167;01mKeyError\u001b[39;00m \u001b[38;5;28;01mas\u001b[39;00m err:\n\u001b[0;32m-> 3805\u001b[0m     \u001b[38;5;28;01mraise\u001b[39;00m \u001b[38;5;167;01mKeyError\u001b[39;00m(key) \u001b[38;5;28;01mfrom\u001b[39;00m \u001b[38;5;21;01merr\u001b[39;00m\n\u001b[1;32m   3806\u001b[0m \u001b[38;5;28;01mexcept\u001b[39;00m \u001b[38;5;167;01mTypeError\u001b[39;00m:\n\u001b[1;32m   3807\u001b[0m     \u001b[38;5;66;03m# If we have a listlike key, _check_indexing_error will raise\u001b[39;00m\n\u001b[1;32m   3808\u001b[0m     \u001b[38;5;66;03m#  InvalidIndexError. Otherwise we fall through and re-raise\u001b[39;00m\n\u001b[1;32m   3809\u001b[0m     \u001b[38;5;66;03m#  the TypeError.\u001b[39;00m\n\u001b[1;32m   3810\u001b[0m     \u001b[38;5;28mself\u001b[39m\u001b[38;5;241m.\u001b[39m_check_indexing_error(key)\n",
      "\u001b[0;31mKeyError\u001b[0m: 'pIC50'"
     ]
    }
   ],
   "source": [
    "top_n_molecules = 10\n",
    "top_molecules = molecule_dataset.sort_values([\"tanimoto_morgan\"], ascending=False).reset_index()\n",
    "top_molecules = top_molecules[:top_n_molecules]\n",
    "legends = [\n",
    "    f\"#{index+1} {molecule['name']}, pIC50={molecule['pIC50']:.2f}\"\n",
    "    for index, molecule in top_molecules.iterrows()\n",
    "]\n",
    "Chem.Draw.MolsToGridImage(\n",
    "    mols=[query] + top_molecules[\"ROMol\"].tolist(),\n",
    "    legends=([\"Gefitinib\"] + legends),\n",
    "    molsPerRow=3,\n",
    "    subImgSize=(450, 150),\n",
    ")"
   ]
  },
  {
   "cell_type": "markdown",
   "metadata": {},
   "source": [
    "The top ranked molecules for Gefitinib are Gefitinib entries (rank 1 and 2) in our dataset, followed by alterations of Gefitinib, e.g. different benzole substitution patterns. \n",
    "Note: ChEMBL contains the complete structure-activity relationship analysis for Gefitinib (being a well-studied molecule), therefore it is not surprising to have that many Gefitinib-like molecules in our dataset.\n",
    "\n",
    "We now check how well the similarity search is able to distinguish between active and inactive molecules based on our dataset. Therefore, we use the bioactivity values, which we collected from ChEMBL for each molecule (bioactivity against EGFR) in **Talktorial T001**."
   ]
  },
  {
   "cell_type": "markdown",
   "metadata": {},
   "source": [
    "#### Generate enrichment plots\n",
    "\n",
    "In order to validate our virtual screening and see the ratio of detected active molecules, we generate an enrichment plot. \n",
    "\n",
    "__Enrichment plots__ show \n",
    "\n",
    "* the ratio of top-ranked molecules (x-axis) from the whole dataset vs. \n",
    "* the ratio of active molecules (y-axis) from the whole dataset. \n",
    "\n",
    "We compare the Tanimoto similarity for MACCS and Morgan fingerprints. \n",
    "\n",
    "In order to decide whether we treat a molecule as active or inactive, we apply the commonly used pIC50 cutoff value of 6.3. Although there are several suggestions ranging from an pIC50 cutoff values of 5 to 7 in the literature or even to define an exclusion range, we think this cutoff is reasonable. \n",
    "The same cutoff will be used for machine learning in **Talktorial T010**."
   ]
  },
  {
   "cell_type": "code",
   "execution_count": null,
   "metadata": {},
   "outputs": [],
   "source": [
    "molecule_dataset.head(3)"
   ]
  },
  {
   "cell_type": "code",
   "execution_count": null,
   "metadata": {},
   "outputs": [],
   "source": [
    "def get_enrichment_data(molecules, similarity_measure, pic50_cutoff):\n",
    "    \"\"\"\n",
    "    Calculates x and y values for enrichment plot:\n",
    "        x - % ranked dataset\n",
    "        y - % true actives identified\n",
    "\n",
    "    Parameters\n",
    "    ----------\n",
    "    molecules : pandas.DataFrame\n",
    "        Molecules with similarity values to a query molecule.\n",
    "    similarity_measure : str\n",
    "        Column name which will be used to sort the DataFrame．\n",
    "    pic50_cutoff : float\n",
    "        pIC50 cutoff value used to discriminate active and inactive molecules.\n",
    "\n",
    "    Returns\n",
    "    -------\n",
    "    pandas.DataFrame\n",
    "        Enrichment data: Percentage of ranked dataset by similarity vs. percentage of identified true actives.\n",
    "    \"\"\"\n",
    "\n",
    "    # Get number of molecules in data set\n",
    "    molecules_all = len(molecules)\n",
    "\n",
    "    # Get number of active molecules in data set\n",
    "    actives_all = sum(molecules[\"pIC50\"] >= pic50_cutoff)\n",
    "\n",
    "    # Initialize a list that will hold the counter for actives and molecules while iterating through our dataset\n",
    "    actives_counter_list = []\n",
    "\n",
    "    # Initialize counter for actives\n",
    "    actives_counter = 0\n",
    "\n",
    "    # Note: Data must be ranked for enrichment plots:\n",
    "    # Sort molecules by selected similarity measure\n",
    "    molecules.sort_values([similarity_measure], ascending=False, inplace=True)\n",
    "\n",
    "    # Iterate over the ranked dataset and check each molecule if active (by checking bioactivity)\n",
    "    for value in molecules[\"pIC50\"]:\n",
    "        if value >= pic50_cutoff:\n",
    "            actives_counter += 1\n",
    "        actives_counter_list.append(actives_counter)\n",
    "\n",
    "    # Transform number of molecules into % ranked dataset\n",
    "    molecules_percentage_list = [i / molecules_all for i in range(1, molecules_all + 1)]\n",
    "\n",
    "    # Transform number of actives into % true actives identified\n",
    "    actives_percentage_list = [i / actives_all for i in actives_counter_list]\n",
    "\n",
    "    # Generate DataFrame with x and y values as well as label\n",
    "    enrichment = pd.DataFrame(\n",
    "        {\n",
    "            \"% ranked dataset\": molecules_percentage_list,\n",
    "            \"% true actives identified\": actives_percentage_list,\n",
    "        }\n",
    "    )\n",
    "\n",
    "    return enrichment"
   ]
  },
  {
   "cell_type": "markdown",
   "metadata": {},
   "source": [
    "Set the pIC50 cutoff used to discriminate active and inactive molecules... "
   ]
  },
  {
   "cell_type": "code",
   "execution_count": null,
   "metadata": {},
   "outputs": [],
   "source": [
    "pic50_cutoff = 6.3"
   ]
  },
  {
   "cell_type": "markdown",
   "metadata": {},
   "source": [
    "...and get the enrichment for MACCS and Morgan fingerprints (using the Tanimoto similarity)."
   ]
  },
  {
   "cell_type": "code",
   "execution_count": null,
   "metadata": {},
   "outputs": [],
   "source": [
    "pic50_cutoff = 6.3\n",
    "similarity_measures = [\"tanimoto_maccs\", \"tanimoto_morgan\"]\n",
    "enrichment_data = {\n",
    "    similarity_measure: get_enrichment_data(molecule_dataset, similarity_measure, pic50_cutoff)\n",
    "    for similarity_measure in similarity_measures\n",
    "}"
   ]
  },
  {
   "cell_type": "markdown",
   "metadata": {},
   "source": [
    "Show example enrichment data."
   ]
  },
  {
   "cell_type": "code",
   "execution_count": null,
   "metadata": {},
   "outputs": [],
   "source": [
    "# NBVAL_CHECK_OUTPUT\n",
    "enrichment_data[\"tanimoto_maccs\"].head()"
   ]
  },
  {
   "cell_type": "markdown",
   "metadata": {},
   "source": [
    "Plot the enrichment data next to the optimal and random enrichment curve!"
   ]
  },
  {
   "cell_type": "code",
   "execution_count": null,
   "metadata": {
    "tags": [
     "nbsphinx-thumbnail"
    ]
   },
   "outputs": [],
   "source": [
    "fig, ax = plt.subplots(figsize=(6, 6))\n",
    "\n",
    "fontsize = 20\n",
    "\n",
    "# Plot enrichment data\n",
    "for similarity_measure, enrichment in enrichment_data.items():\n",
    "    ax = enrichment.plot(\n",
    "        ax=ax,\n",
    "        x=\"% ranked dataset\",\n",
    "        y=\"% true actives identified\",\n",
    "        label=similarity_measure,\n",
    "        alpha=0.5,\n",
    "        linewidth=4,\n",
    "    )\n",
    "ax.set_ylabel(\"% True actives identified\", size=fontsize)\n",
    "ax.set_xlabel(\"% Ranked dataset\", size=fontsize)\n",
    "\n",
    "# Plot optimal curve: Ratio of actives in dataset\n",
    "ratio_actives = sum(molecule_dataset[\"pIC50\"] >= pic50_cutoff) / len(molecule_dataset)\n",
    "ax.plot(\n",
    "    [0, ratio_actives, 1],\n",
    "    [0, 1, 1],\n",
    "    label=\"Optimal curve\",\n",
    "    color=\"black\",\n",
    "    linestyle=\"--\",\n",
    ")\n",
    "\n",
    "# Plot random curve\n",
    "ax.plot([0, 1], [0, 1], label=\"Random curve\", color=\"grey\", linestyle=\"--\")\n",
    "\n",
    "plt.tick_params(labelsize=16)\n",
    "plt.legend(\n",
    "    labels=[\"MACCS\", \"Morgan\", \"Optimal\", \"Random\"],\n",
    "    loc=(0.5, 0.08),\n",
    "    fontsize=fontsize,\n",
    "    labelspacing=0.3,\n",
    ")\n",
    "\n",
    "# Save plot -- use bbox_inches to include text boxes\n",
    "plt.savefig(\n",
    "    DATA / \"enrichment_plot.png\",\n",
    "    dpi=300,\n",
    "    bbox_inches=\"tight\",\n",
    "    transparent=True,\n",
    ")\n",
    "\n",
    "plt.show()"
   ]
  },
  {
   "cell_type": "markdown",
   "metadata": {},
   "source": [
    "The enrichment plots show a slightly better performance for fingerprint comparison based on Morgan fingerprints than based on MACCS fingerprints."
   ]
  },
  {
   "cell_type": "markdown",
   "metadata": {},
   "source": [
    "#### Calculate enrichment factors\n",
    "\n",
    "The (experimental) __enrichment factor (EF)__ is used to access a methods success by a single number rather than a plot. The idea is to determine the percentage of active molecules in the top x% (e.g. 5%) of ranked molecules, as defined by the following helper function."
   ]
  },
  {
   "cell_type": "code",
   "execution_count": null,
   "metadata": {},
   "outputs": [],
   "source": [
    "def calculate_enrichment_factor(enrichment, ranked_dataset_percentage_cutoff):\n",
    "    \"\"\"\n",
    "    Get the experimental enrichment factor for a given percentage of the ranked dataset.\n",
    "\n",
    "    Parameters\n",
    "    ----------\n",
    "    enrichment : pd.DataFrame\n",
    "        Enrichment data: Percentage of ranked dataset by similarity vs. percentage of\n",
    "        identified true actives.\n",
    "    ranked_dataset_percentage_cutoff : float or int\n",
    "        Percentage of ranked dataset to be included in enrichment factor calculation.\n",
    "\n",
    "    Returns\n",
    "    -------\n",
    "    float\n",
    "        Experimental enrichment factor.\n",
    "    \"\"\"\n",
    "\n",
    "    # Keep only molecules that meet the cutoff\n",
    "    enrichment = enrichment[\n",
    "        enrichment[\"% ranked dataset\"] <= ranked_dataset_percentage_cutoff / 100\n",
    "    ]\n",
    "    # Get highest percentage of actives and the corresponding percentage of actives\n",
    "    highest_enrichment = enrichment.iloc[-1]\n",
    "    enrichment_factor = round(100 * float(highest_enrichment[\"% true actives identified\"]), 1)\n",
    "    return enrichment_factor"
   ]
  },
  {
   "cell_type": "markdown",
   "metadata": {},
   "source": [
    "This helper function calculates the random enrichment of active molecules in the top x% of ranked molecules (__random enrichment factor__)."
   ]
  },
  {
   "cell_type": "code",
   "execution_count": null,
   "metadata": {},
   "outputs": [],
   "source": [
    "def calculate_enrichment_factor_random(ranked_dataset_percentage_cutoff):\n",
    "    \"\"\"\n",
    "    Get the random enrichment factor for a given percentage of the ranked dataset.\n",
    "\n",
    "    Parameters\n",
    "    ----------\n",
    "    ranked_dataset_percentage_cutoff : float or int\n",
    "        Percentage of ranked dataset to be included in enrichment factor calculation.\n",
    "\n",
    "    Returns\n",
    "    -------\n",
    "    float\n",
    "        Random enrichment factor.\n",
    "    \"\"\"\n",
    "\n",
    "    enrichment_factor_random = round(float(ranked_dataset_percentage_cutoff), 1)\n",
    "    return enrichment_factor_random"
   ]
  },
  {
   "cell_type": "markdown",
   "metadata": {},
   "source": [
    "And this helper function calculates the optimal enrichment of active molecules in the top x% of ranked molecules (__optimal enrichment factor__). The random and optimal enrichment factors are needed to judge how good the experimental enrichment factor for a method is."
   ]
  },
  {
   "cell_type": "code",
   "execution_count": null,
   "metadata": {},
   "outputs": [],
   "source": [
    "def calculate_enrichment_factor_optimal(molecules, ranked_dataset_percentage_cutoff, pic50_cutoff):\n",
    "    \"\"\"\n",
    "    Get the optimal random enrichment factor for a given percentage of the ranked dataset.\n",
    "\n",
    "    Parameters\n",
    "    ----------\n",
    "    molecules : pandas.DataFrame\n",
    "        the DataFrame with all the molecules and pIC50.\n",
    "    ranked_dataset_percentage_cutoff : float or int\n",
    "        Percentage of ranked dataset to be included in enrichment factor calculation.\n",
    "    activity_cutoff: float\n",
    "        pIC50 cutoff value used to discriminate active and inactive molecules\n",
    "\n",
    "    Returns\n",
    "    -------\n",
    "    float\n",
    "        Optimal enrichment factor.\n",
    "    \"\"\"\n",
    "\n",
    "    ratio = sum(molecules[\"pIC50\"] >= pic50_cutoff) / len(molecules) * 100\n",
    "    if ranked_dataset_percentage_cutoff <= ratio:\n",
    "        enrichment_factor_optimal = round(100 / ratio * ranked_dataset_percentage_cutoff, 1)\n",
    "    else:\n",
    "        enrichment_factor_optimal = 100.0\n",
    "    return enrichment_factor_optimal"
   ]
  },
  {
   "cell_type": "markdown",
   "metadata": {},
   "source": [
    "We are ready to calculate the experimental enrichment factor (EF) for 5% of ranked dataset... "
   ]
  },
  {
   "cell_type": "code",
   "execution_count": null,
   "metadata": {
    "tags": []
   },
   "outputs": [],
   "source": [
    "ranked_dataset_percentage_cutoff = 5"
   ]
  },
  {
   "cell_type": "code",
   "execution_count": null,
   "metadata": {
    "tags": []
   },
   "outputs": [],
   "source": [
    "for similarity_measure, enrichment in enrichment_data.items():\n",
    "    enrichment_factor = calculate_enrichment_factor(enrichment, ranked_dataset_percentage_cutoff)\n",
    "    print(\n",
    "        f\"Experimental EF for {ranked_dataset_percentage_cutoff}% of ranked dataset ({similarity_measure}): {enrichment_factor}%\"\n",
    "    )\n",
    "# NBVAL_CHECK_OUTPUT"
   ]
  },
  {
   "cell_type": "markdown",
   "metadata": {},
   "source": [
    "... and we can compare it to the random and optimal enrichment factor."
   ]
  },
  {
   "cell_type": "code",
   "execution_count": null,
   "metadata": {
    "tags": []
   },
   "outputs": [],
   "source": [
    "enrichment_factor_random = calculate_enrichment_factor_random(ranked_dataset_percentage_cutoff)\n",
    "print(\n",
    "    f\"Random EF for {ranked_dataset_percentage_cutoff}% of ranked dataset: {enrichment_factor_random}%\"\n",
    ")\n",
    "enrichment_factor_optimal = calculate_enrichment_factor_optimal(\n",
    "    molecule_dataset, ranked_dataset_percentage_cutoff, pic50_cutoff\n",
    ")\n",
    "print(\n",
    "    f\"Optimal EF for {ranked_dataset_percentage_cutoff}% of ranked dataset: {enrichment_factor_optimal}%\"\n",
    ")\n",
    "# NBVAL_CHECK_OUTPUT"
   ]
  },
  {
   "cell_type": "markdown",
   "metadata": {},
   "source": [
    "## Discussion\n",
    "\n",
    "We have learned how to use fingerprints and similarity measures to compare a query molecule with a dataset of molecules and rank the molecule by similarity. This approach is an example for virtual screening of molecules.\n",
    "Enrichment plots and enrichment factors can be used to assess the performance. \n",
    "\n",
    "A drawback of a similarity search with molecular fingerprints is that it is based on molecular similarity and thus does not yield any novel structures. Another challenge when working with molecular similarity are so-called activity cliffs, i.e. a small change in a functional group of a molecule may initiate a jump in bioactivity. "
   ]
  },
  {
   "cell_type": "markdown",
   "metadata": {},
   "source": [
    "## Quiz\n",
    "\n",
    "* What could be a starting point to circumvent activity cliffs?\n",
    "* What are the advantages and disadvantages of MACCS and Morgan fingerprints compared to each other fingerprints?\n",
    "* How can you explain the different orders in the similarity dataframe depending on the fingerprint used?"
   ]
  }
 ],
 "metadata": {
  "kernelspec": {
   "display_name": "Python 3 (ipykernel)",
   "language": "python",
   "name": "python3"
  },
  "language_info": {
   "codemirror_mode": {
    "name": "ipython",
    "version": 3
   },
   "file_extension": ".py",
   "mimetype": "text/x-python",
   "name": "python",
   "nbconvert_exporter": "python",
   "pygments_lexer": "ipython3",
   "version": "3.10.6"
  },
  "widgets": {
   "application/vnd.jupyter.widget-state+json": {
    "state": {},
    "version_major": 2,
    "version_minor": 0
   }
  }
 },
 "nbformat": 4,
 "nbformat_minor": 4
}
